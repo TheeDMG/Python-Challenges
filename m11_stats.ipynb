{
 "cells": [
  {
   "cell_type": "markdown",
   "id": "859a42d6-cc99-4e26-bd4e-7be9fa2c9129",
   "metadata": {},
   "source": [
    "# **<center>Statistics and Probability**"
   ]
  },
  {
   "cell_type": "markdown",
   "id": "b436fab2-c300-4afb-bef0-8d2c627cbf4f",
   "metadata": {},
   "source": [
    "**<center>Exploring the Unknown**"
   ]
  },
  {
   "cell_type": "markdown",
   "id": "4b0e42cb-7e83-48af-a7bd-19b67e94e0f9",
   "metadata": {},
   "source": [
    "<center><img src=\"images/pier.jpeg\" width=600 height=900 />"
   ]
  },
  {
   "cell_type": "markdown",
   "id": "44f02785-1b2e-42f3-94c5-3550473ce0ee",
   "metadata": {},
   "source": [
    "You return to a familiar pier in your hometown, the last remnant of a time and place made indistinguishable from dream by the flow of time.    \n",
    "It stands as you remember it.   \n",
    "But no, not quite.  \n",
    "The pylons, holding up the pier, are more exposed than they once were.   \n",
    "**The distance between the boardwalk and the water is too wide.**   \n",
    "**\"What happened?\"**   \n",
    "You walk toward the jutting structure,   \n",
    "To face the monument of your youth, standing defiant, in an ocean of time."
   ]
  },
  {
   "cell_type": "markdown",
   "id": "a38a1d65-da36-4e8d-bea7-d6eac1b7292d",
   "metadata": {},
   "source": [
    "# **Objectives**"
   ]
  },
  {
   "cell_type": "markdown",
   "id": "7b6fdd80-bd57-4883-8f5c-6754863b913b",
   "metadata": {},
   "source": [
    "- Measures of central tendency\n",
    "    - Mode\n",
    "    - Mean\n",
    "    - Meadian\n",
    "    - Standard Deviation\n",
    "- Percentiles\n",
    "- Distributions\n",
    "    - Normal Distribution"
   ]
  },
  {
   "cell_type": "markdown",
   "id": "dea53c68-1502-460b-bed4-e94cebe9ef25",
   "metadata": {},
   "source": [
    "# **Measusres of Central Tendency**"
   ]
  },
  {
   "cell_type": "markdown",
   "id": "143d4352-4e63-4a19-b9ac-043073adbc4d",
   "metadata": {},
   "source": [
    "What does it mean to be average?  \n",
    "What does it mean to be normal?"
   ]
  },
  {
   "cell_type": "markdown",
   "id": "65dde328-71ea-40a7-934a-fcdb5df54c2e",
   "metadata": {},
   "source": [
    "[Average Americans believe they are above average in intelligence](https://www.ncbi.nlm.nih.gov/pmc/articles/PMC6029792/)"
   ]
  },
  {
   "cell_type": "markdown",
   "id": "911d029e-f021-4def-a9f2-7e8dbb6fd8f4",
   "metadata": {},
   "source": [
    "Descriptive statistics help us summarize and understand the main features of a dataset. We'll cover common measures like mean, median, mode, variance, and standard deviation, and demonstrate how to compute them with practical examples."
   ]
  },
  {
   "cell_type": "code",
   "execution_count": 43,
   "id": "e45da407-4e7f-4852-8423-3b83eae71611",
   "metadata": {},
   "outputs": [],
   "source": [
    "import statistics as st"
   ]
  },
  {
   "cell_type": "markdown",
   "id": "cde2f195-0564-466a-8949-44d39ed16a71",
   "metadata": {},
   "source": [
    "# **Mode**"
   ]
  },
  {
   "cell_type": "markdown",
   "id": "971ee1f9-f905-467b-9167-216d19128c5d",
   "metadata": {},
   "source": [
    "The mode is a measure of centrality that represents the most frequently occurring value in a dataset. It is particularly useful for `categorical` and `ordinal` data, where the data points are not necessarily numerical. The mode can provide insights into the most common category or value within the dataset."
   ]
  },
  {
   "cell_type": "markdown",
   "id": "9e09092c-4a8d-4189-adb0-c35549ab7f46",
   "metadata": {},
   "source": [
    "To calculate the mode in Python, you can use the statistics module, which provides a built-in function called `mode()`. This function takes a list of data as input and returns the mode(s) of the dataset."
   ]
  },
  {
   "cell_type": "code",
   "execution_count": 45,
   "id": "453c008d-9aad-456d-8c43-7cb82795cd2e",
   "metadata": {},
   "outputs": [
    {
     "name": "stdout",
     "output_type": "stream",
     "text": [
      "Mode: 40\n",
      "Mode: 40\n"
     ]
    }
   ],
   "source": [
    "# Example data\n",
    "data = [10, 20, 30, 20, 40, 30, 50, 40, 40]\n",
    "\n",
    "# Calculate the mode\n",
    "mode = st.mode(data)\n",
    "print(f\"Mode: {mode}\")\n",
    "print(\"Mode:\", mode)"
   ]
  },
  {
   "cell_type": "markdown",
   "id": "30124588-3e60-4d57-810a-7ee3a64154b1",
   "metadata": {},
   "source": [
    "**Suitable for Categorical Data:** Mode doesn't require numeric inputs"
   ]
  },
  {
   "cell_type": "code",
   "execution_count": 46,
   "id": "dc071187-8eb4-461e-8ea6-f685bbce1dd9",
   "metadata": {},
   "outputs": [
    {
     "name": "stdout",
     "output_type": "stream",
     "text": [
      "Mode: Red\n"
     ]
    }
   ],
   "source": [
    "# Example categorical data\n",
    "data = ['Red', 'Green', 'Blue', 'Red', 'Red']\n",
    "\n",
    "# Calculate the mode\n",
    "mode = st.mode(data)\n",
    "print(f\"Mode: {mode}\")"
   ]
  },
  {
   "cell_type": "markdown",
   "id": "8c9d68fe-e2e9-4e5d-85c4-decd8ced6455",
   "metadata": {},
   "source": [
    "**Suitable for Ordinal Data:** Mode doesn't require numeric inputs"
   ]
  },
  {
   "cell_type": "code",
   "execution_count": 47,
   "id": "ba6d2168-8ee0-40fb-9e9c-759b08ec70c1",
   "metadata": {},
   "outputs": [
    {
     "name": "stdout",
     "output_type": "stream",
     "text": [
      "Mode: Low\n"
     ]
    }
   ],
   "source": [
    "data = ['Low', 'Medium', 'High', 'Medium', 'Low']\n",
    "\n",
    "# Calculate the mode\n",
    "mode = st.mode(data)\n",
    "print(f\"Mode: {mode}\")"
   ]
  },
  {
   "cell_type": "markdown",
   "id": "1ab54a13-3059-428d-a9c1-1b815e7b02c1",
   "metadata": {},
   "source": [
    "# **Weaknesses of the mode**"
   ]
  },
  {
   "cell_type": "markdown",
   "id": "27901724-c059-4b37-8325-727021484e14",
   "metadata": {},
   "source": [
    "**1. Multimodal Distributions:** The dataset exhibits multiple modes (20 and 40), indicating that these values occur most frequently. If there are multiple modes (bimodal or multimodal data), the function will only return the first. In such cases, the mode might not accurately represent a single central value."
   ]
  },
  {
   "cell_type": "code",
   "execution_count": 59,
   "id": "5bda40f9-76ef-4adf-ab00-cb673d394090",
   "metadata": {},
   "outputs": [
    {
     "name": "stdout",
     "output_type": "stream",
     "text": [
      "Mode: 21\n"
     ]
    }
   ],
   "source": [
    "# Example data with multiple modes\n",
    "data = [10, 21, 21, 21, 30, 40, 40, 40, 50, 50]\n",
    "\n",
    "# Calculate the mode\n",
    "mode_value = st.mode(data)\n",
    "print(f\"Mode: {mode_value}\")"
   ]
  },
  {
   "cell_type": "markdown",
   "id": "3feb4b92-9443-4398-909e-cdd5386feac1",
   "metadata": {},
   "source": [
    "# Muti Mode may provide solution"
   ]
  },
  {
   "cell_type": "code",
   "execution_count": 60,
   "id": "9e7438d7-4a8d-4f84-9271-7a098362963b",
   "metadata": {},
   "outputs": [
    {
     "name": "stdout",
     "output_type": "stream",
     "text": [
      "Mode: [21, 40]\n"
     ]
    }
   ],
   "source": [
    "# Calculate the mode\n",
    "mode_value = st.multimode(data)\n",
    "print(f\"Mode: {mode_value}\")"
   ]
  },
  {
   "cell_type": "markdown",
   "id": "fe308f8c-de90-44e8-8b77-2b493a1391df",
   "metadata": {},
   "source": [
    "**2. Skewed Distributions:** "
   ]
  },
  {
   "cell_type": "markdown",
   "id": "f65d1cc8-d648-43d0-8b71-2ab3d205d350",
   "metadata": {},
   "source": [
    "<center><img src=\"images/skew1.png\" width=600 height=900 />"
   ]
  },
  {
   "cell_type": "code",
   "execution_count": 49,
   "id": "d62fa7cc-2a18-4ce0-b996-980ee6101021",
   "metadata": {},
   "outputs": [
    {
     "name": "stdout",
     "output_type": "stream",
     "text": [
      "Mode: 50\n"
     ]
    }
   ],
   "source": [
    "# Example data with a skewed distribution\n",
    "data = [10, 15, 20, 25, 30, 35, 40, 50, 50, 50]\n",
    "\n",
    "# Calculate the mode\n",
    "mode_value = st.mode(data)\n",
    "print(f\"Mode: {mode_value}\")"
   ]
  },
  {
   "cell_type": "markdown",
   "id": "914220d2-fab5-43d0-a2b2-0f74d94a5e0e",
   "metadata": {},
   "source": [
    "**3. Lack of Central Tendency:** "
   ]
  },
  {
   "cell_type": "code",
   "execution_count": 52,
   "id": "5743befd-fc89-4b69-9c4c-da9e0eb3c5fe",
   "metadata": {},
   "outputs": [
    {
     "name": "stdout",
     "output_type": "stream",
     "text": [
      "Mode: 1\n"
     ]
    }
   ],
   "source": [
    "# Example data with equal frequencies\n",
    "data = [1, 2, 3, 4, 5, 6]\n",
    "\n",
    "# Calculate the mode\n",
    "mode_value = st.mode(data)\n",
    "print(f\"Mode: {mode_value}\")"
   ]
  },
  {
   "cell_type": "markdown",
   "id": "99c1c873-9da5-404c-8a09-c577bc806aef",
   "metadata": {},
   "source": [
    "**4. Sensitivity to Small Changes:**"
   ]
  },
  {
   "cell_type": "code",
   "execution_count": 54,
   "id": "dcf4a5e8-c141-4bf0-b31f-07daa1025499",
   "metadata": {},
   "outputs": [
    {
     "name": "stdout",
     "output_type": "stream",
     "text": [
      "Mode: 2\n"
     ]
    }
   ],
   "source": [
    "# Example data with slightly different values\n",
    "data = [1, 1, 2, 2, 2, 3, 4, 5, 5, 5] #What happens if we add a 1?\n",
    "\n",
    "# Calculate the mode\n",
    "mode_value = st.mode(data)\n",
    "print(f\"Mode: {mode_value}\")"
   ]
  },
  {
   "cell_type": "markdown",
   "id": "1d2b2617-7dde-4ec1-8538-01625685660d",
   "metadata": {},
   "source": [
    "While the mode is a valuable measure for certain types of data, these weaknesses highlight the importance of considering the nature of the dataset and the specific characteristics of the data points when choosing an appropriate measure of centrality.   \n",
    "Depending on the data's **distribution** and **type**, the mode may not always provide the most accurate representation of central tendency."
   ]
  },
  {
   "cell_type": "markdown",
   "id": "80ce7e3f-1f6e-4a84-a873-253212ea7066",
   "metadata": {},
   "source": [
    "# **Mean**"
   ]
  },
  {
   "cell_type": "markdown",
   "id": "b16a8c6b-00d7-4235-b528-b8225a46ff96",
   "metadata": {},
   "source": [
    "**Mean** is the sum of all data points divided by the total number of data points. Very central."
   ]
  },
  {
   "cell_type": "markdown",
   "id": "32e5424b-6afd-4829-a7ae-1f1b858ab4f9",
   "metadata": {},
   "source": [
    "[The idea of the average (as a mean)](https://timharford.com/2019/08/the-strange-power-of-the-idea-of-average/#:~:text=We%20do%20not%20know%20who,the%20direction%20of%20magnetic%20north.)"
   ]
  },
  {
   "cell_type": "code",
   "execution_count": 61,
   "id": "abd67aa7-e053-4781-b2fb-3bb9d85c4576",
   "metadata": {},
   "outputs": [
    {
     "name": "stdout",
     "output_type": "stream",
     "text": [
      "Mean: 17.4\n"
     ]
    }
   ],
   "source": [
    "# Example data\n",
    "data = [12, 15, 18, 20, 22]\n",
    "\n",
    "# Calculate the mean\n",
    "mean = round(st.mean(data),2)\n",
    "print(f\"Mean: {mean}\")"
   ]
  },
  {
   "cell_type": "markdown",
   "id": "717499d4-ed9d-42e2-af0d-ef8cb581304b",
   "metadata": {},
   "source": [
    "# **Weaknesses of the Mean**"
   ]
  },
  {
   "cell_type": "markdown",
   "id": "34d57086-742b-4ba4-bc6e-0b9895907cff",
   "metadata": {},
   "source": [
    "**1. Sensitive to Outliers:** The mean is highly sensitive to extreme values, also known as outliers. Even a single outlier can significantly affect the mean, pulling it towards higher or lower values. As a result, the mean may not accurately represent the typical value of the majority of the data."
   ]
  },
  {
   "cell_type": "code",
   "execution_count": 62,
   "id": "63f10ae5-2a51-462e-bbc0-2e5235c18cfb",
   "metadata": {},
   "outputs": [
    {
     "name": "stdout",
     "output_type": "stream",
     "text": [
      "Mean: 32.6\n"
     ]
    }
   ],
   "source": [
    "# Example data with an outlier\n",
    "data = [10, 15, 18, 20, 100]\n",
    "\n",
    "# Calculate the mean\n",
    "mean = round(st.mean(data),2)\n",
    "print(f\"Mean: {mean}\")"
   ]
  },
  {
   "cell_type": "markdown",
   "id": "b0a79141-3c99-4b3b-b63c-8b9e5a8ea26b",
   "metadata": {},
   "source": [
    "**2. Skewed Distributions:** In datasets with skewed distributions (asymmetrically distributed), the mean can be misleading. It may not align with the bulk of the data points, giving a false impression of the central tendency. In such cases, the median might be a more appropriate measure of centrality."
   ]
  },
  {
   "cell_type": "code",
   "execution_count": 63,
   "id": "aa312a0e-667e-4c6b-9824-a696be6d944d",
   "metadata": {},
   "outputs": [
    {
     "name": "stdout",
     "output_type": "stream",
     "text": [
      "Mean: 35.71\n"
     ]
    }
   ],
   "source": [
    "# Example data with a skewed distribution\n",
    "data = [10, 15, 20, 25, 30, 50, 100]\n",
    "\n",
    "# Calculate the mean\n",
    "mean = round(st.mean(data),2)\n",
    "print(f\"Mean: {mean}\")"
   ]
  },
  {
   "cell_type": "markdown",
   "id": "a4e0c7fb-b3f6-4a7b-809d-c125675387ca",
   "metadata": {},
   "source": [
    "The data in this example is positively skewed with a long tail on the right. The mean (35.7) is pulled towards the larger values, even though the bulk of the data is clustered towards the left."
   ]
  },
  {
   "cell_type": "markdown",
   "id": "adc81c35-010f-467c-ad26-5cfdbbb2d54c",
   "metadata": {},
   "source": [
    "**3. Biased by Sample Size:** just like all measures of centrality"
   ]
  },
  {
   "cell_type": "code",
   "execution_count": 12,
   "id": "134542cc-9168-4326-b81a-397faabbae7e",
   "metadata": {},
   "outputs": [
    {
     "name": "stdout",
     "output_type": "stream",
     "text": [
      "Mean: 10\n"
     ]
    }
   ],
   "source": [
    "# Example data with a small sample size\n",
    "data = [5, 10, 15]\n",
    "\n",
    "# Calculate the mean\n",
    "mean = round(st.mean(data),2)\n",
    "print(f\"Mean: {mean}\")"
   ]
  },
  {
   "cell_type": "markdown",
   "id": "9a8dd62f-9b66-4a46-afa4-f1f7bc5a054c",
   "metadata": {},
   "source": [
    "**Not Suitable for Categorical Data:** Mean requires numeric inputs**"
   ]
  },
  {
   "cell_type": "code",
   "execution_count": 65,
   "id": "91a9c3f4-7b05-498f-b6b2-63a15cc68f1b",
   "metadata": {},
   "outputs": [],
   "source": [
    "# Example categorical data\n",
    "data = ['Red', 'Green', 'Blue', 'Red', 'Red']\n",
    "\n",
    "# Calculate the mean\n",
    "# mean = st.mean(data)\n",
    "# print(f\"Mode: {mean}\")"
   ]
  },
  {
   "cell_type": "markdown",
   "id": "d032a506-e060-4ef1-b38a-d2a7a0a4f581",
   "metadata": {},
   "source": [
    "**Not Suitable for Ordinal Data:** Median requires numeric inputs"
   ]
  },
  {
   "cell_type": "code",
   "execution_count": 67,
   "id": "13c5b291-6b3f-41f5-80c6-fd8cdca6a8bb",
   "metadata": {},
   "outputs": [],
   "source": [
    "# Example ordinal data\n",
    "data = ['Low', 'Medium', 'High', 'Medium', 'Low']\n",
    "\n",
    "# Calculate the mean\n",
    "# mean = st.mean(data)\n",
    "# print(f\"Mode: {mean}\")"
   ]
  },
  {
   "cell_type": "markdown",
   "id": "519d64ad-a90a-4861-8a77-da7232b187cc",
   "metadata": {},
   "source": [
    "# **Median**"
   ]
  },
  {
   "cell_type": "markdown",
   "id": "73551b87-4b21-4421-8350-c5eb1293dc12",
   "metadata": {},
   "source": [
    "The middle value of a dataset when it is arranged in ascending or descending order. It is a useful measure, especially when dealing with skewed data or datasets with outliers. The median is less affected by outliers and skewed data than the mean and is usually the preferred measure of central tendency when the distribution is not symmetrical.  \n",
    "To calculate the median, you sort the data and find the value at the center. If the dataset has an odd number of data points, the median is the middle value.  \n",
    "If the dataset has an even number of data points, the median is the **average of the two middle values.**"
   ]
  },
  {
   "cell_type": "code",
   "execution_count": 69,
   "id": "77105bf0-7c76-4da2-9981-2524c5f6818d",
   "metadata": {},
   "outputs": [
    {
     "name": "stdout",
     "output_type": "stream",
     "text": [
      "Median: 32.5\n"
     ]
    }
   ],
   "source": [
    "# Example data\n",
    "data = [10, 15, 20, 25, 30, 35, 50, 50, 50, 50]\n",
    "\n",
    "# Calculate the median\n",
    "median = st.median(data)\n",
    "print(f\"Median: {median}\")"
   ]
  },
  {
   "cell_type": "code",
   "execution_count": 70,
   "id": "1d5a4d2c-22fb-4c19-abd0-579194aad95a",
   "metadata": {},
   "outputs": [
    {
     "data": {
      "text/plain": [
       "32.5"
      ]
     },
     "execution_count": 70,
     "metadata": {},
     "output_type": "execute_result"
    }
   ],
   "source": [
    "x = [30, 35]\n",
    "st.mean(x) "
   ]
  },
  {
   "cell_type": "markdown",
   "id": "6c0f8abe-4301-4447-b76c-536517ed2e45",
   "metadata": {},
   "source": [
    "# **Weaknesses of the median**"
   ]
  },
  {
   "cell_type": "markdown",
   "id": "6ddd6f73-323c-40b0-a8f5-a315048ad0a0",
   "metadata": {},
   "source": [
    "**1. May Not Capture Multiple Modes:**"
   ]
  },
  {
   "cell_type": "code",
   "execution_count": 16,
   "id": "9461ef54-ac65-4fcd-876f-d289599770df",
   "metadata": {},
   "outputs": [
    {
     "name": "stdout",
     "output_type": "stream",
     "text": [
      "Median: 30\n"
     ]
    }
   ],
   "source": [
    "# Example data with multiple modes\n",
    "data = [10, 20, 30, 20, 40, 30, 50, 40, 40]\n",
    "\n",
    "# Calculate the median\n",
    "median = st.median(data)\n",
    "print(f\"Median: {median}\")"
   ]
  },
  {
   "cell_type": "markdown",
   "id": "a9650cc9-2779-4735-a286-3403a5b106c2",
   "metadata": {},
   "source": [
    "**2. Skewed data**"
   ]
  },
  {
   "cell_type": "code",
   "execution_count": 71,
   "id": "5b299847-0143-48ec-9c98-04db4d142713",
   "metadata": {},
   "outputs": [
    {
     "name": "stdout",
     "output_type": "stream",
     "text": [
      "Median: 30\n"
     ]
    }
   ],
   "source": [
    "# Example data with a skewed distribution\n",
    "data = [10, 15, 20, 25, 30, 50, 50, 50, 50]\n",
    "\n",
    "# Calculate the median\n",
    "median = st.median(data)\n",
    "print(f\"Median: {median}\")"
   ]
  },
  {
   "cell_type": "markdown",
   "id": "834046a6-d79e-4d3d-870e-557e2f00a732",
   "metadata": {},
   "source": [
    "**Not Suitable for Categorical Data:** Median requires numeric inputs"
   ]
  },
  {
   "cell_type": "code",
   "execution_count": 72,
   "id": "7da41820-e34b-4779-9d80-7e8d9a659bf9",
   "metadata": {},
   "outputs": [],
   "source": [
    "# Example categorical data\n",
    "data = ['Red', 'Green', 'Blue', 'Red', 'Red']\n",
    "\n",
    "# Calculate the median\n",
    "# mean = st.median(data)\n",
    "# print(f\"Mode: {median}\")"
   ]
  },
  {
   "cell_type": "markdown",
   "id": "7ea6ee2c-9d1a-4dc2-958e-90f88c726d4f",
   "metadata": {},
   "source": [
    "**Not Suitable for Ordinal Data:** Median requires numeric inputs"
   ]
  },
  {
   "cell_type": "code",
   "execution_count": 19,
   "id": "97304d29-3378-482e-9e65-b08d5ae52af5",
   "metadata": {},
   "outputs": [],
   "source": [
    "# Example ordinal data\n",
    "data = ['Low', 'Medium', 'High', 'Medium', 'Low']\n",
    "\n",
    "# Calculate the mean\n",
    "# mean = st.median(data)\n",
    "# print(f\"Mode: {median}\")"
   ]
  },
  {
   "cell_type": "markdown",
   "id": "80061a8c-2ac6-4a2d-b9f7-f43855b01ba6",
   "metadata": {},
   "source": [
    "# **Standard Deviation for Beginners**"
   ]
  },
  {
   "cell_type": "markdown",
   "id": "49525ac1-1cd0-4681-b8e8-cea9ce0b0429",
   "metadata": {},
   "source": [
    "**Standard deviation** is a statistical measure that quantifies the amount of variability or dispersion in a dataset. It tells us how much the data points deviate from the mean (average) of the dataset. A low standard deviation indicates that the data points are close to the mean, while a high standard deviation suggests that the data points are spread out over a wider range."
   ]
  },
  {
   "cell_type": "markdown",
   "id": "113f46a1-2ef6-44b0-925d-9a3c2ae34113",
   "metadata": {},
   "source": [
    "<center><img src=\"images/stdev_normal.png\" width=600 height=900 />"
   ]
  },
  {
   "cell_type": "markdown",
   "id": "d9fdc2aa-d011-4224-b54f-1297d0cc1351",
   "metadata": {},
   "source": [
    "**Example data: Exam scores**"
   ]
  },
  {
   "cell_type": "code",
   "execution_count": 73,
   "id": "1b8c2aea-b370-405f-990b-365bbfe02f1d",
   "metadata": {},
   "outputs": [],
   "source": [
    "scores = [80, 85, 90, 95, 100]"
   ]
  },
  {
   "cell_type": "markdown",
   "id": "8f35f0dc-be81-4bd4-b73f-0a89a8005654",
   "metadata": {},
   "source": [
    "**1. Calculation of Mean (Average):** The mean is calculated as the sum of all scores divided by the total number of scores. In this example, the mean is `90`."
   ]
  },
  {
   "cell_type": "code",
   "execution_count": 75,
   "id": "4e0ef98e-dcfe-4c50-880d-77a2c906f564",
   "metadata": {},
   "outputs": [
    {
     "name": "stdout",
     "output_type": "stream",
     "text": [
      "Mean: 90.0\n"
     ]
    }
   ],
   "source": [
    "mean = sum(scores) / len(scores)\n",
    "print(f\"Mean: {mean}\")"
   ]
  },
  {
   "cell_type": "markdown",
   "id": "d6b7d5d1-0539-4878-93a4-0c85a22fafb4",
   "metadata": {},
   "source": [
    "**2. Deviation from the Mean:** The deviation from the mean is calculated for each score by subtracting the mean from each data point. For our example, the deviations are `[-10, -5, 0, 5, 10]`."
   ]
  },
  {
   "cell_type": "code",
   "execution_count": 77,
   "id": "4b531e7f-992a-4225-99c3-eeef50f14f26",
   "metadata": {},
   "outputs": [
    {
     "name": "stdout",
     "output_type": "stream",
     "text": [
      "Deviations from the Mean: [-10.0, -5.0, 0.0, 5.0, 10.0]\n"
     ]
    }
   ],
   "source": [
    "# Calculate deviations from the mean\n",
    "# scores = [80, 85, 90, 95, 100]\n",
    "\n",
    "deviations = [score - mean for score in scores]\n",
    "print(\"Deviations from the Mean:\", deviations)"
   ]
  },
  {
   "cell_type": "markdown",
   "id": "a1679721-68d0-4e91-87e5-69c38c2c7ccf",
   "metadata": {},
   "source": [
    "**3. Squaring the Deviations:** To avoid negative values, we square the deviations.** In our example, the squared deviations are [100, 25, 0, 25, 100]."
   ]
  },
  {
   "cell_type": "code",
   "execution_count": 78,
   "id": "a37138d7-cdef-4340-86cb-3b02a84f3155",
   "metadata": {},
   "outputs": [
    {
     "name": "stdout",
     "output_type": "stream",
     "text": [
      "Squared Deviations: [100.0, 25.0, 0.0, 25.0, 100.0]\n"
     ]
    }
   ],
   "source": [
    "# Square the deviations\n",
    "# deviations = [-10.0, -5.0, 0.0, 5.0, 10.0]\n",
    "\n",
    "squared_deviations = [deviation ** 2 for deviation in deviations]\n",
    "print(\"Squared Deviations:\", squared_deviations)"
   ]
  },
  {
   "cell_type": "markdown",
   "id": "a507403a-77d7-48b5-9c5a-b9eab9074159",
   "metadata": {},
   "source": [
    "**4. Calculation of Variance:** The variance is the average of the squared deviations. In this case, the variance is `50`."
   ]
  },
  {
   "cell_type": "code",
   "execution_count": 79,
   "id": "6a9338a2-0eff-4b7b-9692-c3e53c2ff69c",
   "metadata": {},
   "outputs": [
    {
     "name": "stdout",
     "output_type": "stream",
     "text": [
      "Variance: 50.0\n"
     ]
    }
   ],
   "source": [
    "# Calculate the variance\n",
    "variance = sum(squared_deviations) / len(squared_deviations)\n",
    "print(f\"Variance: {variance}\")"
   ]
  },
  {
   "cell_type": "markdown",
   "id": "2bef4ab0-862e-47e0-bbcd-e09090b8518c",
   "metadata": {},
   "source": [
    "**5. Calculation of Standard Deviation:** The standard deviation is the `square root` of the variance. In our example, the standard deviation is approximately `7.07`."
   ]
  },
  {
   "cell_type": "code",
   "execution_count": 80,
   "id": "fa6f41c9-d482-452a-9cb5-73ac7dea6737",
   "metadata": {},
   "outputs": [
    {
     "name": "stdout",
     "output_type": "stream",
     "text": [
      "Standard Deviation: 7.07\n"
     ]
    }
   ],
   "source": [
    "standard_deviation = round(st.sqrt(variance),2)\n",
    "print(f\"Standard Deviation: {standard_deviation}\")"
   ]
  },
  {
   "cell_type": "code",
   "execution_count": 26,
   "id": "b9f1ece0-2ec6-4dc1-abd4-9a98f0556f8e",
   "metadata": {},
   "outputs": [
    {
     "name": "stdout",
     "output_type": "stream",
     "text": [
      "7.07\n"
     ]
    }
   ],
   "source": [
    "print(round(st.pstdev(scores),2))"
   ]
  },
  {
   "cell_type": "markdown",
   "id": "3ec78484-4bcf-4be1-996a-0896be071eaa",
   "metadata": {},
   "source": [
    "Standard deviation measures the spread or variability of data points in a dataset.  \n",
    "A higher standard deviation indicates a wider spread of data, while a lower standard deviation suggests that the data points are clustered closer to the mean.   "
   ]
  },
  {
   "cell_type": "markdown",
   "id": "817926e4-4196-4cef-a0ad-9056e80838e0",
   "metadata": {},
   "source": [
    "# **Percentiles, Quartiles and Quantiles**"
   ]
  },
  {
   "cell_type": "markdown",
   "id": "b4798106-a81d-4fc6-9355-39f06eb81714",
   "metadata": {},
   "source": [
    "**Percentile**"
   ]
  },
  {
   "cell_type": "code",
   "execution_count": 81,
   "id": "767183b1-6f95-4ab7-8eab-2e74b4539464",
   "metadata": {},
   "outputs": [],
   "source": [
    "import numpy as np"
   ]
  },
  {
   "cell_type": "markdown",
   "id": "e97fefcf-582c-4b79-adda-1fcb167222f7",
   "metadata": {},
   "source": [
    "Percentiles are statistical measures that divide a dataset into 100 equal parts, each containing a specified percentage of data points. They are used to understand the distribution of data and identify values at specific positions relative to the entire dataset. The n'th percentile (where n is a value between 0 and 100) represents **the value below which a given percentage of the data falls.**"
   ]
  },
  {
   "cell_type": "code",
   "execution_count": 83,
   "id": "d1a46156-07b1-4ff9-9883-61e7564fbcc3",
   "metadata": {},
   "outputs": [
    {
     "name": "stdout",
     "output_type": "stream",
     "text": [
      "25th Percentile: 150.0\n",
      "50th Percentile: 200.0\n",
      "75th Percentile: 260.0\n"
     ]
    }
   ],
   "source": [
    "# Example dataset, GRE Scores\n",
    "data = [400, 218, 100, 200, 92, 250, 270, 350, 150, 300, 200, 250, 151, 150, 100]\n",
    "\n",
    "# Calculate the percentiles using numpy\n",
    "p25 = np.percentile(data, 25)\n",
    "p50 = np.percentile(data, 50) #Median\n",
    "p75 = np.percentile(data, 75)\n",
    "\n",
    "# Output the results\n",
    "print(f\"25th Percentile: {p25}\")\n",
    "print(f\"50th Percentile: {p50}\")\n",
    "print(f\"75th Percentile: {p75}\")"
   ]
  },
  {
   "cell_type": "markdown",
   "id": "25595401-bcc4-4ab1-937e-dc68d61a50cc",
   "metadata": {},
   "source": [
    "**Quartile**"
   ]
  },
  {
   "cell_type": "markdown",
   "id": "d324abb3-3066-46ee-95f1-036ca114af1e",
   "metadata": {},
   "source": [
    "Quartiles are statistical measures that divide a dataset into four equal parts, each containing an equal number of data points. They are useful in understanding the distribution and spread of data. The three quartiles are as follows:"
   ]
  },
  {
   "cell_type": "markdown",
   "id": "08263144-0f2f-4a2c-b77e-e9a7c2018f04",
   "metadata": {},
   "source": [
    "**First Quartile (Q1):** It separates the lowest 25% of the data from the rest.  \n",
    "**Second Quartile (Q2) or the Median:** It divides the data into two halves, with 50% of the data points below and 50% above.  \n",
    "**Third Quartile (Q3):** It separates the highest 75% of the data from the rest."
   ]
  },
  {
   "cell_type": "code",
   "execution_count": 84,
   "id": "3896db6b-6259-4c85-aa3f-437aeaddbfaa",
   "metadata": {},
   "outputs": [
    {
     "name": "stdout",
     "output_type": "stream",
     "text": [
      "Q1 (First Quartile): 18.5\n",
      "Q2 (Second Quartile): 23.5\n",
      "Q3 (Third Quartile): 29.25\n"
     ]
    }
   ],
   "source": [
    "# Example dataset\n",
    "data = [12, 17, 18, 20, 22, 25, 27, 30, 35, 40]\n",
    "\n",
    "# Calculate the quartiles using numpy\n",
    "q1 = np.percentile(data, 25)\n",
    "q2 = np.percentile(data, 50) # median\n",
    "q3 = np.percentile(data, 75)\n",
    "\n",
    "# Output the results\n",
    "print(f\"Q1 (First Quartile): {q1}\")\n",
    "print(f\"Q2 (Second Quartile): {q2}\" )\n",
    "print(f\"Q3 (Third Quartile): {q3}\")"
   ]
  },
  {
   "cell_type": "markdown",
   "id": "1e1c73e7-9116-477b-87ad-9267a38b1dcb",
   "metadata": {},
   "source": [
    "The `numpy.percentile()` function can calculate any percentile, not just quartiles. So, by changing the percentile value (e.g., using np.percentile(data, 90)), you can calculate other quantiles as well.  "
   ]
  },
  {
   "cell_type": "markdown",
   "id": "b339d832-3678-4d40-8ec4-899a55988da8",
   "metadata": {},
   "source": [
    "<center><img src=\"images/boxplot.png\" width=600 height=900 />"
   ]
  },
  {
   "cell_type": "markdown",
   "id": "31da9690-03d5-40b5-a9bf-7895ed9ddd33",
   "metadata": {},
   "source": [
    "**Quantile**"
   ]
  },
  {
   "cell_type": "markdown",
   "id": "acd49ea2-ceda-4578-a364-00182c78110c",
   "metadata": {},
   "source": [
    "Quantiles are statistical measures that divide a dataset into equal parts, each containing a specified percentage of data points."
   ]
  },
  {
   "cell_type": "code",
   "execution_count": 88,
   "id": "2f83a493-a96c-4812-a620-08920e068182",
   "metadata": {},
   "outputs": [
    {
     "name": "stdout",
     "output_type": "stream",
     "text": [
      "Q1 (First Quantile): 17.8\n",
      "Q2 (Second Quantile): 21.2\n",
      "Q3 (Third Quantile): 25.8\n",
      "Q3 (Third Quantile): 31.0\n"
     ]
    }
   ],
   "source": [
    "# Example dataset\n",
    "data = [12, 17, 18, 20, 22, 25, 27, 30, 35, 40]\n",
    "\n",
    "# Calculate the quartiles using numpy\n",
    "q1 = np.percentile(data, 20)\n",
    "q2 = np.percentile(data, 40) \n",
    "q3 = round(np.percentile(data, 60),2)\n",
    "q4 = round(np.percentile(data, 80),2)\n",
    "\n",
    "# Output the results\n",
    "print(f\"Q1 (First Quantile): {q1}\")\n",
    "print(f\"Q2 (Second Quantile): {q2}\" )\n",
    "print(f\"Q3 (Third Quantile): {q3}\")\n",
    "print(f\"Q3 (Third Quantile): {q4}\")"
   ]
  },
  {
   "cell_type": "markdown",
   "id": "09aa8abb-b61c-4aba-a73a-26deaf3dfd41",
   "metadata": {},
   "source": [
    "# Skew Study"
   ]
  },
  {
   "cell_type": "code",
   "execution_count": 32,
   "id": "7423523b-97d7-4888-a7b7-5a53c4009a2c",
   "metadata": {},
   "outputs": [],
   "source": [
    "import seaborn as sns\n",
    "no_skew_test_scores = [30, 30, 40, 40, 40, 50, 50, 50, 50, 60, 60, 60, 70, 70] "
   ]
  },
  {
   "cell_type": "code",
   "execution_count": 33,
   "id": "33e99d52-593a-43d3-a19d-f30effe5f4ac",
   "metadata": {},
   "outputs": [
    {
     "data": {
      "text/plain": [
       "<AxesSubplot:ylabel='Count'>"
      ]
     },
     "execution_count": 33,
     "metadata": {},
     "output_type": "execute_result"
    },
    {
     "data": {
      "image/png": "[encoded data removed]",
      "text/plain": [
       "<Figure size 432x288 with 1 Axes>"
      ]
     },
     "metadata": {
      "needs_background": "light"
     },
     "output_type": "display_data"
    }
   ],
   "source": [
    "# No skew\n",
    "sns.histplot(x = no_skew_test_scores)"
   ]
  },
  {
   "cell_type": "code",
   "execution_count": 34,
   "id": "6079f518-dd16-4151-ae38-1d428cabe4cf",
   "metadata": {},
   "outputs": [
    {
     "data": {
      "text/plain": [
       "<AxesSubplot:>"
      ]
     },
     "execution_count": 34,
     "metadata": {},
     "output_type": "execute_result"
    },
    {
     "data": {
      "image/png": "[encoded data removed]",
      "text/plain": [
       "<Figure size 432x288 with 1 Axes>"
      ]
     },
     "metadata": {
      "needs_background": "light"
     },
     "output_type": "display_data"
    }
   ],
   "source": [
    "sns.boxplot(x = no_skew_test_scores)"
   ]
  },
  {
   "cell_type": "code",
   "execution_count": 35,
   "id": "30324ce6-e8d5-4369-8098-5b80ef864079",
   "metadata": {},
   "outputs": [],
   "source": [
    "positive_skew_test_scores = [40, 40, 40, 50, 50, 50, 50, 50, 60, 60, 60, 70, 100]\n",
    "import statistics as st"
   ]
  },
  {
   "cell_type": "code",
   "execution_count": 36,
   "id": "b9f52bbc-c50a-4def-8a40-30d0267abedf",
   "metadata": {},
   "outputs": [
    {
     "data": {
      "text/plain": [
       "<AxesSubplot:ylabel='Count'>"
      ]
     },
     "execution_count": 36,
     "metadata": {},
     "output_type": "execute_result"
    },
    {
     "data": {
      "image/png": "[encoded data removed]",
      "text/plain": [
       "<Figure size 432x288 with 1 Axes>"
      ]
     },
     "metadata": {
      "needs_background": "light"
     },
     "output_type": "display_data"
    }
   ],
   "source": [
    "sns.histplot(x = positive_skew_test_scores)"
   ]
  },
  {
   "cell_type": "code",
   "execution_count": 37,
   "id": "e421ba26-92e7-4a1c-b5ff-1907744841c1",
   "metadata": {},
   "outputs": [
    {
     "data": {
      "text/plain": [
       "<AxesSubplot:>"
      ]
     },
     "execution_count": 37,
     "metadata": {},
     "output_type": "execute_result"
    },
    {
     "data": {
      "image/png": "[encoded data removed]",
      "text/plain": [
       "<Figure size 432x288 with 1 Axes>"
      ]
     },
     "metadata": {
      "needs_background": "light"
     },
     "output_type": "display_data"
    }
   ],
   "source": [
    "sns.boxplot(x = positive_skew_test_scores, orient = \"Verical\")"
   ]
  },
  {
   "cell_type": "code",
   "execution_count": 39,
   "id": "178acca7-65dc-417e-ba89-d3ac58346a7e",
   "metadata": {},
   "outputs": [
    {
     "name": "stdout",
     "output_type": "stream",
     "text": [
      "50\n"
     ]
    }
   ],
   "source": [
    "print(st.median(positive_skew_test_scores))"
   ]
  },
  {
   "cell_type": "code",
   "execution_count": 38,
   "id": "2b01d5e9-327a-4715-8187-2d3bdd217cef",
   "metadata": {},
   "outputs": [],
   "source": [
    "negative_skew_test_scores = [5, 20, 40, 40, 40, 50, 50, 50, 50, 50, 60, 60, 60, 70]"
   ]
  },
  {
   "cell_type": "code",
   "execution_count": 40,
   "id": "b3d3f96b-f8a6-4843-bd3a-9a1e36249d2a",
   "metadata": {},
   "outputs": [
    {
     "data": {
      "text/plain": [
       "<AxesSubplot:ylabel='Count'>"
      ]
     },
     "execution_count": 40,
     "metadata": {},
     "output_type": "execute_result"
    },
    {
     "data": {
      "image/png": "[encoded data removed]",
      "text/plain": [
       "<Figure size 432x288 with 1 Axes>"
      ]
     },
     "metadata": {
      "needs_background": "light"
     },
     "output_type": "display_data"
    }
   ],
   "source": [
    "sns.histplot(x = negative_skew_test_scores)"
   ]
  },
  {
   "cell_type": "code",
   "execution_count": 41,
   "id": "30c73a32-87ba-4c2a-9a2d-62c8e73d75ce",
   "metadata": {},
   "outputs": [
    {
     "name": "stdout",
     "output_type": "stream",
     "text": [
      "50\n"
     ]
    },
    {
     "data": {
      "image/png": "[encoded data removed]",
      "text/plain": [
       "<Figure size 432x288 with 1 Axes>"
      ]
     },
     "metadata": {
      "needs_background": "light"
     },
     "output_type": "display_data"
    }
   ],
   "source": [
    "sns.boxplot(x = negative_skew_test_scores, orient = \"Verical\")\n",
    "print(st.median(positive_skew_test_scores))"
   ]
  },
  {
   "cell_type": "code",
   "execution_count": null,
   "id": "e00ba939-dedd-4b53-a262-22a386e7b24a",
   "metadata": {},
   "outputs": [],
   "source": []
  }
 ],
 "metadata": {
  "kernelspec": {
   "display_name": "Python 3 (ipykernel)",
   "language": "python",
   "name": "python3"
  },
  "language_info": {
   "codemirror_mode": {
    "name": "ipython",
    "version": 3
   },
   "file_extension": ".py",
   "mimetype": "text/x-python",
   "name": "python",
   "nbconvert_exporter": "python",
   "pygments_lexer": "ipython3",
   "version": "3.9.7"
  }
 },
 "nbformat": 4,
 "nbformat_minor": 5
}
