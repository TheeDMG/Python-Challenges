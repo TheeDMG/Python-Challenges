{
 "cells": [
  {
   "cell_type": "markdown",
   "id": "65e23e42-e2fa-4887-a86c-490413dcaea3",
   "metadata": {},
   "source": [
    "## Python Challenge 3 _ Monica Grant\n"
   ]
  },
  {
   "cell_type": "code",
   "execution_count": 9,
   "id": "b6f7e8c7-ef9d-4dd2-a1b4-1c6fd3de60db",
   "metadata": {},
   "outputs": [
    {
     "name": "stdout",
     "output_type": "stream",
     "text": [
      "Number of stories in a 259 ft building: 25\n"
     ]
    }
   ],
   "source": [
    "def calculate_stories(height):\n",
    "    stories = height // 10  = 259 \n",
    "    return stories\n",
    "\n",
    "building_height = 259\n",
    "building_stories = calculate_stories(building_height)\n",
    "print(\"Number of stories in a\", building_height, \"ft building:\", building_stories)\n"
   ]
  },
  {
   "cell_type": "code",
   "execution_count": 3,
   "id": "06e96e33-f917-4e50-a7cc-5f557000afb2",
   "metadata": {},
   "outputs": [
    {
     "name": "stdout",
     "output_type": "stream",
     "text": [
      "Cubes of numbers: [1, 8, 27, 64, 125]\n"
     ]
    }
   ],
   "source": [
    "cube = lambda a: a * a * a\n",
    "\n",
    "numbers = [1, 2, 3, 4, 5]\n",
    "cubes = list(map(cube, numbers))\n",
    "print(\"Cubes of numbers:\", cubes)"
   ]
  },
  {
   "cell_type": "code",
   "execution_count": 8,
   "id": "88491eb0-56ef-45f4-bbbf-555ad6812158",
   "metadata": {},
   "outputs": [
    {
     "name": "stdout",
     "output_type": "stream",
     "text": [
      "# of bedrooms in yo_house: 2\n",
      "# of bedrooms in Monicas_house: 16\n"
     ]
    }
   ],
   "source": [
    "class House:\n",
    "    def __init__(self, num_bedrooms):\n",
    "        self.num_bedrooms = num_bedrooms\n",
    "\n",
    "    def how_many_bedrooms(self):\n",
    "        return self.num_bedrooms\n",
    "    \n",
    "    \n",
    "my_house = House(2)\n",
    "print(\"# of bedrooms in my_house:\", my_house.how_many_bedrooms())\n",
    "\n",
    "white_house = House(16)\n",
    "print(\"# of bedrooms in white_house:\", white_house.how_many_bedrooms())"
   ]
  },
  {
   "cell_type": "code",
   "execution_count": null,
   "id": "197d7c0f-bed6-483f-976f-11228a3898f8",
   "metadata": {},
   "outputs": [],
   "source": []
  },
  {
   "cell_type": "code",
   "execution_count": null,
   "id": "0eb2a5c1-f1d0-4713-bb35-c8a6cac6a42e",
   "metadata": {},
   "outputs": [],
   "source": []
  },
  {
   "cell_type": "code",
   "execution_count": null,
   "id": "b53aa63c-21d9-44b2-87e8-fc004ac833b3",
   "metadata": {},
   "outputs": [],
   "source": []
  }
 ],
 "metadata": {
  "kernelspec": {
   "display_name": "Python 3 (ipykernel)",
   "language": "python",
   "name": "python3"
  },
  "language_info": {
   "codemirror_mode": {
    "name": "ipython",
    "version": 3
   },
   "file_extension": ".py",
   "mimetype": "text/x-python",
   "name": "python",
   "nbconvert_exporter": "python",
   "pygments_lexer": "ipython3",
   "version": "3.10.9"
  }
 },
 "nbformat": 4,
 "nbformat_minor": 5
}
