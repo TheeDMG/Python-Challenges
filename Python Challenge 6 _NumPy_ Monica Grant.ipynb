{
 "cells": [
  {
   "cell_type": "markdown",
   "id": "dc338efc",
   "metadata": {},
   "source": [
    "## Python Challenge 6- NumPy"
   ]
  },
  {
   "cell_type": "code",
   "execution_count": null,
   "id": "eab0b2cb",
   "metadata": {},
   "outputs": [],
   "source": [
    "# Create a numpy array called ‘height in inches’ from a list 10 of numbers: [66, 68, 71, 64, 61, 74, 64, 65, 70, 71].\n",
    "\n",
    "# Create a new array called ‘height_in_feet’ and make its values equal to the values in the first array divided by 12.\n",
    "# Create a 5x5 array of zeros. \n",
    "# Create an array of random floating point numbers between 0 and 100. \n",
    "# Create an array of numbers from 0 to 75 in increments of 5.\n"
   ]
  },
  {
   "cell_type": "code",
   "execution_count": 1,
   "id": "42e889c7",
   "metadata": {},
   "outputs": [],
   "source": [
    "import numpy as np"
   ]
  },
  {
   "cell_type": "code",
   "execution_count": 2,
   "id": "04db48bd",
   "metadata": {},
   "outputs": [
    {
     "name": "stdout",
     "output_type": "stream",
     "text": [
      "[66 68 71 64 61 74 64 65 70 71]\n"
     ]
    },
    {
     "data": {
      "text/plain": [
       "dtype('int32')"
      ]
     },
     "execution_count": 2,
     "metadata": {},
     "output_type": "execute_result"
    }
   ],
   "source": [
    "# Create a numpy array called ‘height in inches’ from a list 10 of numbers: [66, 68, 71, 64, 61, 74, 64, 65, 70, 71].\n",
    "\n",
    "height_in_inches = np.array([66, 68, 71, 64, 61, 74, 64, 65, 70, 71])\n",
    "print(height_in_inches )\n",
    "type(height_in_inches )\n",
    "height_in_inches.dtype"
   ]
  },
  {
   "cell_type": "code",
   "execution_count": 3,
   "id": "4d86bdeb",
   "metadata": {},
   "outputs": [
    {
     "name": "stdout",
     "output_type": "stream",
     "text": [
      "[5.5        5.66666667 5.91666667 5.33333333 5.08333333 6.16666667\n",
      " 5.33333333 5.41666667 5.83333333 5.91666667]\n"
     ]
    }
   ],
   "source": [
    "# Create a new array called ‘height_in_feet’ and make its values equal to the values in the first array divided by 12.\n",
    "\n",
    "height_in_feet = (height_in_inches/12)\n",
    "print(height_in_feet)"
   ]
  },
  {
   "cell_type": "code",
   "execution_count": 5,
   "id": "b07ba276",
   "metadata": {},
   "outputs": [
    {
     "name": "stdout",
     "output_type": "stream",
     "text": [
      "float64\n",
      "[[0. 0. 0. 0. 0.]\n",
      " [0. 0. 0. 0. 0.]\n",
      " [0. 0. 0. 0. 0.]\n",
      " [0. 0. 0. 0. 0.]\n",
      " [0. 0. 0. 0. 0.]]\n"
     ]
    }
   ],
   "source": [
    "# Create a 5x5 array of zeros. \n",
    "a = np.zeros((5,5))\n",
    "print(a.dtype)\n",
    "print(a)"
   ]
  },
  {
   "cell_type": "code",
   "execution_count": 15,
   "id": "ab85aad7",
   "metadata": {},
   "outputs": [
    {
     "name": "stdout",
     "output_type": "stream",
     "text": [
      "[36.94829322 40.61232351 54.68778072 72.95558762 72.33722058 57.05517884\n",
      " 27.56454615  0.95748724 59.81002322 77.13240241  4.74155595 84.55234234\n",
      " 86.43629924  1.2709544  76.22330659 88.97305218 84.74200968 95.27909774\n",
      "  1.25026534 10.46370424 74.34591751 79.79654223]\n"
     ]
    },
    {
     "data": {
      "text/plain": [
       "dtype('float64')"
      ]
     },
     "execution_count": 15,
     "metadata": {},
     "output_type": "execute_result"
    }
   ],
   "source": [
    "# Create an array of random floating point numbers between 0 and 100.\n",
    "a = (np.random.random(22)) * 100\n",
    "print(a)\n",
    "a.dtype"
   ]
  },
  {
   "cell_type": "code",
   "execution_count": 25,
   "id": "2afdfd84",
   "metadata": {},
   "outputs": [
    {
     "name": "stdout",
     "output_type": "stream",
     "text": [
      "[ 0  5 10 15 20 25 30 35 40 45 50 55 60 65 70 75]\n"
     ]
    }
   ],
   "source": [
    "# Create an array of numbers from 0 to 75 in increments of 5.\n",
    "print (np.arange(0,80,5))"
   ]
  },
  {
   "cell_type": "code",
   "execution_count": null,
   "id": "e0df0f33",
   "metadata": {},
   "outputs": [],
   "source": []
  }
 ],
 "metadata": {
  "kernelspec": {
   "display_name": "Python 3 (ipykernel)",
   "language": "python",
   "name": "python3"
  },
  "language_info": {
   "codemirror_mode": {
    "name": "ipython",
    "version": 3
   },
   "file_extension": ".py",
   "mimetype": "text/x-python",
   "name": "python",
   "nbconvert_exporter": "python",
   "pygments_lexer": "ipython3",
   "version": "3.10.9"
  }
 },
 "nbformat": 4,
 "nbformat_minor": 5
}
