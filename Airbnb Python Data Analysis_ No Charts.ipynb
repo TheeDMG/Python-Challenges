{
 "cells": [
  {
   "cell_type": "markdown",
   "id": "4690d71d",
   "metadata": {},
   "source": [
    "# AirBnb Data Analysis by Monica Grant"
   ]
  },
  {
   "cell_type": "markdown",
   "id": "3a6de230",
   "metadata": {},
   "source": [
    "#### 2305 Python Workshop - Data Cleaning, Exploration, and Visualization"
   ]
  },
  {
   "cell_type": "code",
   "execution_count": 1,
   "id": "d556fb28",
   "metadata": {},
   "outputs": [],
   "source": [
    "import pandas as pd"
   ]
  },
  {
   "cell_type": "code",
   "execution_count": 2,
   "id": "3d1704a8",
   "metadata": {},
   "outputs": [],
   "source": [
    "import matplotlib as plt"
   ]
  },
  {
   "cell_type": "code",
   "execution_count": 3,
   "id": "7ad4ffd5",
   "metadata": {},
   "outputs": [],
   "source": [
    "df=pd.read_excel(\"Airbnb Clean.xlsx\")"
   ]
  },
  {
   "cell_type": "code",
   "execution_count": 9,
   "id": "1fcaed79",
   "metadata": {},
   "outputs": [
    {
     "data": {
      "text/html": [
       "<div>\n",
       "<style scoped>\n",
       "    .dataframe tbody tr th:only-of-type {\n",
       "        vertical-align: middle;\n",
       "    }\n",
       "\n",
       "    .dataframe tbody tr th {\n",
       "        vertical-align: top;\n",
       "    }\n",
       "\n",
       "    .dataframe thead th {\n",
       "        text-align: right;\n",
       "    }\n",
       "</style>\n",
       "<table border=\"1\" class=\"dataframe\">\n",
       "  <thead>\n",
       "    <tr style=\"text-align: right;\">\n",
       "      <th></th>\n",
       "      <th>id</th>\n",
       "      <th>host_id</th>\n",
       "      <th>price</th>\n",
       "      <th>minimum_nights</th>\n",
       "      <th>number_of_reviews</th>\n",
       "      <th>last_review</th>\n",
       "      <th>reviews_per_month</th>\n",
       "      <th>calculated_host_listings_count</th>\n",
       "      <th>availability_365</th>\n",
       "      <th>rating</th>\n",
       "    </tr>\n",
       "  </thead>\n",
       "  <tbody>\n",
       "    <tr>\n",
       "      <th>count</th>\n",
       "      <td>1211.000000</td>\n",
       "      <td>1.211000e+03</td>\n",
       "      <td>1211.000000</td>\n",
       "      <td>1211.000000</td>\n",
       "      <td>1211.000000</td>\n",
       "      <td>1161.000000</td>\n",
       "      <td>1161.000000</td>\n",
       "      <td>1211.000000</td>\n",
       "      <td>1211.000000</td>\n",
       "      <td>1211.000000</td>\n",
       "    </tr>\n",
       "    <tr>\n",
       "      <th>mean</th>\n",
       "      <td>225550.784476</td>\n",
       "      <td>9.492489e+05</td>\n",
       "      <td>159.915772</td>\n",
       "      <td>9.157721</td>\n",
       "      <td>78.289017</td>\n",
       "      <td>43315.707149</td>\n",
       "      <td>0.925693</td>\n",
       "      <td>2.222956</td>\n",
       "      <td>165.123039</td>\n",
       "      <td>0.495865</td>\n",
       "    </tr>\n",
       "    <tr>\n",
       "      <th>std</th>\n",
       "      <td>152779.563444</td>\n",
       "      <td>9.119169e+05</td>\n",
       "      <td>149.686210</td>\n",
       "      <td>23.672296</td>\n",
       "      <td>88.543788</td>\n",
       "      <td>585.133713</td>\n",
       "      <td>0.981830</td>\n",
       "      <td>4.044157</td>\n",
       "      <td>133.922065</td>\n",
       "      <td>0.285699</td>\n",
       "    </tr>\n",
       "    <tr>\n",
       "      <th>min</th>\n",
       "      <td>2539.000000</td>\n",
       "      <td>2.787000e+03</td>\n",
       "      <td>20.000000</td>\n",
       "      <td>1.000000</td>\n",
       "      <td>0.000000</td>\n",
       "      <td>40630.000000</td>\n",
       "      <td>0.010000</td>\n",
       "      <td>1.000000</td>\n",
       "      <td>0.000000</td>\n",
       "      <td>0.000107</td>\n",
       "    </tr>\n",
       "    <tr>\n",
       "      <th>25%</th>\n",
       "      <td>70111.500000</td>\n",
       "      <td>2.594365e+05</td>\n",
       "      <td>85.000000</td>\n",
       "      <td>2.000000</td>\n",
       "      <td>14.000000</td>\n",
       "      <td>43321.000000</td>\n",
       "      <td>0.210000</td>\n",
       "      <td>1.000000</td>\n",
       "      <td>12.000000</td>\n",
       "      <td>0.261658</td>\n",
       "    </tr>\n",
       "    <tr>\n",
       "      <th>50%</th>\n",
       "      <td>228925.000000</td>\n",
       "      <td>7.571660e+05</td>\n",
       "      <td>129.000000</td>\n",
       "      <td>3.000000</td>\n",
       "      <td>43.000000</td>\n",
       "      <td>43609.000000</td>\n",
       "      <td>0.580000</td>\n",
       "      <td>1.000000</td>\n",
       "      <td>188.000000</td>\n",
       "      <td>0.496798</td>\n",
       "    </tr>\n",
       "    <tr>\n",
       "      <th>75%</th>\n",
       "      <td>329347.500000</td>\n",
       "      <td>1.472728e+06</td>\n",
       "      <td>195.500000</td>\n",
       "      <td>6.000000</td>\n",
       "      <td>115.500000</td>\n",
       "      <td>43639.000000</td>\n",
       "      <td>1.330000</td>\n",
       "      <td>2.000000</td>\n",
       "      <td>291.000000</td>\n",
       "      <td>0.730688</td>\n",
       "    </tr>\n",
       "    <tr>\n",
       "      <th>max</th>\n",
       "      <td>514548.000000</td>\n",
       "      <td>1.060985e+07</td>\n",
       "      <td>3000.000000</td>\n",
       "      <td>365.000000</td>\n",
       "      <td>480.000000</td>\n",
       "      <td>43654.000000</td>\n",
       "      <td>7.140000</td>\n",
       "      <td>28.000000</td>\n",
       "      <td>365.000000</td>\n",
       "      <td>0.997866</td>\n",
       "    </tr>\n",
       "  </tbody>\n",
       "</table>\n",
       "</div>"
      ],
      "text/plain": [
       "                  id       host_id        price  minimum_nights  \\\n",
       "count    1211.000000  1.211000e+03  1211.000000     1211.000000   \n",
       "mean   225550.784476  9.492489e+05   159.915772        9.157721   \n",
       "std    152779.563444  9.119169e+05   149.686210       23.672296   \n",
       "min      2539.000000  2.787000e+03    20.000000        1.000000   \n",
       "25%     70111.500000  2.594365e+05    85.000000        2.000000   \n",
       "50%    228925.000000  7.571660e+05   129.000000        3.000000   \n",
       "75%    329347.500000  1.472728e+06   195.500000        6.000000   \n",
       "max    514548.000000  1.060985e+07  3000.000000      365.000000   \n",
       "\n",
       "       number_of_reviews   last_review  reviews_per_month  \\\n",
       "count        1211.000000   1161.000000        1161.000000   \n",
       "mean           78.289017  43315.707149           0.925693   \n",
       "std            88.543788    585.133713           0.981830   \n",
       "min             0.000000  40630.000000           0.010000   \n",
       "25%            14.000000  43321.000000           0.210000   \n",
       "50%            43.000000  43609.000000           0.580000   \n",
       "75%           115.500000  43639.000000           1.330000   \n",
       "max           480.000000  43654.000000           7.140000   \n",
       "\n",
       "       calculated_host_listings_count  availability_365       rating  \n",
       "count                     1211.000000       1211.000000  1211.000000  \n",
       "mean                         2.222956        165.123039     0.495865  \n",
       "std                          4.044157        133.922065     0.285699  \n",
       "min                          1.000000          0.000000     0.000107  \n",
       "25%                          1.000000         12.000000     0.261658  \n",
       "50%                          1.000000        188.000000     0.496798  \n",
       "75%                          2.000000        291.000000     0.730688  \n",
       "max                         28.000000        365.000000     0.997866  "
      ]
     },
     "execution_count": 9,
     "metadata": {},
     "output_type": "execute_result"
    }
   ],
   "source": [
    "# df.info()\n",
    "df.describe()"
   ]
  },
  {
   "cell_type": "code",
   "execution_count": 10,
   "id": "21cbb92f",
   "metadata": {},
   "outputs": [
    {
     "data": {
      "text/plain": [
       "(1211, 14)"
      ]
     },
     "execution_count": 10,
     "metadata": {},
     "output_type": "execute_result"
    }
   ],
   "source": [
    "df.shape   #1211 rows and 14 columns "
   ]
  },
  {
   "cell_type": "code",
   "execution_count": 11,
   "id": "81027e9d",
   "metadata": {},
   "outputs": [
    {
     "data": {
      "text/html": [
       "<div>\n",
       "<style scoped>\n",
       "    .dataframe tbody tr th:only-of-type {\n",
       "        vertical-align: middle;\n",
       "    }\n",
       "\n",
       "    .dataframe tbody tr th {\n",
       "        vertical-align: top;\n",
       "    }\n",
       "\n",
       "    .dataframe thead th {\n",
       "        text-align: right;\n",
       "    }\n",
       "</style>\n",
       "<table border=\"1\" class=\"dataframe\">\n",
       "  <thead>\n",
       "    <tr style=\"text-align: right;\">\n",
       "      <th></th>\n",
       "      <th>id</th>\n",
       "      <th>host_id</th>\n",
       "      <th>host_name</th>\n",
       "      <th>neighbourhood_group</th>\n",
       "      <th>neighbourhood</th>\n",
       "      <th>room_type</th>\n",
       "      <th>price</th>\n",
       "      <th>minimum_nights</th>\n",
       "      <th>number_of_reviews</th>\n",
       "      <th>last_review</th>\n",
       "      <th>reviews_per_month</th>\n",
       "      <th>calculated_host_listings_count</th>\n",
       "      <th>availability_365</th>\n",
       "      <th>rating</th>\n",
       "    </tr>\n",
       "  </thead>\n",
       "  <tbody>\n",
       "    <tr>\n",
       "      <th>0</th>\n",
       "      <td>2539</td>\n",
       "      <td>2787</td>\n",
       "      <td>John</td>\n",
       "      <td>Brooklyn</td>\n",
       "      <td>Kensington</td>\n",
       "      <td>Private room</td>\n",
       "      <td>149</td>\n",
       "      <td>1</td>\n",
       "      <td>9</td>\n",
       "      <td>43392.0</td>\n",
       "      <td>0.21</td>\n",
       "      <td>6</td>\n",
       "      <td>365</td>\n",
       "      <td>0.571896</td>\n",
       "    </tr>\n",
       "    <tr>\n",
       "      <th>1</th>\n",
       "      <td>2595</td>\n",
       "      <td>2845</td>\n",
       "      <td>Jennifer</td>\n",
       "      <td>Manhattan</td>\n",
       "      <td>Midtown</td>\n",
       "      <td>Entire home/apt</td>\n",
       "      <td>225</td>\n",
       "      <td>1</td>\n",
       "      <td>45</td>\n",
       "      <td>43606.0</td>\n",
       "      <td>0.38</td>\n",
       "      <td>2</td>\n",
       "      <td>355</td>\n",
       "      <td>0.184032</td>\n",
       "    </tr>\n",
       "    <tr>\n",
       "      <th>2</th>\n",
       "      <td>3647</td>\n",
       "      <td>4632</td>\n",
       "      <td>Elisabeth</td>\n",
       "      <td>Manhattan</td>\n",
       "      <td>Harlem</td>\n",
       "      <td>Private room</td>\n",
       "      <td>150</td>\n",
       "      <td>3</td>\n",
       "      <td>0</td>\n",
       "      <td>NaN</td>\n",
       "      <td>NaN</td>\n",
       "      <td>1</td>\n",
       "      <td>365</td>\n",
       "      <td>0.027267</td>\n",
       "    </tr>\n",
       "    <tr>\n",
       "      <th>3</th>\n",
       "      <td>3831</td>\n",
       "      <td>4869</td>\n",
       "      <td>LisaRoxanne</td>\n",
       "      <td>Brooklyn</td>\n",
       "      <td>Clinton Hill</td>\n",
       "      <td>Entire home/apt</td>\n",
       "      <td>89</td>\n",
       "      <td>1</td>\n",
       "      <td>270</td>\n",
       "      <td>43651.0</td>\n",
       "      <td>4.64</td>\n",
       "      <td>1</td>\n",
       "      <td>194</td>\n",
       "      <td>0.461664</td>\n",
       "    </tr>\n",
       "    <tr>\n",
       "      <th>4</th>\n",
       "      <td>5022</td>\n",
       "      <td>7192</td>\n",
       "      <td>Laura</td>\n",
       "      <td>Manhattan</td>\n",
       "      <td>East Harlem</td>\n",
       "      <td>Entire home/apt</td>\n",
       "      <td>80</td>\n",
       "      <td>10</td>\n",
       "      <td>9</td>\n",
       "      <td>43423.0</td>\n",
       "      <td>0.10</td>\n",
       "      <td>1</td>\n",
       "      <td>0</td>\n",
       "      <td>0.823074</td>\n",
       "    </tr>\n",
       "    <tr>\n",
       "      <th>...</th>\n",
       "      <td>...</td>\n",
       "      <td>...</td>\n",
       "      <td>...</td>\n",
       "      <td>...</td>\n",
       "      <td>...</td>\n",
       "      <td>...</td>\n",
       "      <td>...</td>\n",
       "      <td>...</td>\n",
       "      <td>...</td>\n",
       "      <td>...</td>\n",
       "      <td>...</td>\n",
       "      <td>...</td>\n",
       "      <td>...</td>\n",
       "      <td>...</td>\n",
       "    </tr>\n",
       "    <tr>\n",
       "      <th>1206</th>\n",
       "      <td>512775</td>\n",
       "      <td>2396295</td>\n",
       "      <td>Richard</td>\n",
       "      <td>Queens</td>\n",
       "      <td>Long Island City</td>\n",
       "      <td>Entire home/apt</td>\n",
       "      <td>350</td>\n",
       "      <td>2</td>\n",
       "      <td>182</td>\n",
       "      <td>43627.0</td>\n",
       "      <td>2.20</td>\n",
       "      <td>1</td>\n",
       "      <td>272</td>\n",
       "      <td>0.424881</td>\n",
       "    </tr>\n",
       "    <tr>\n",
       "      <th>1207</th>\n",
       "      <td>513343</td>\n",
       "      <td>2528671</td>\n",
       "      <td>Dennis</td>\n",
       "      <td>Brooklyn</td>\n",
       "      <td>Prospect Heights</td>\n",
       "      <td>Entire home/apt</td>\n",
       "      <td>125</td>\n",
       "      <td>30</td>\n",
       "      <td>1</td>\n",
       "      <td>41101.0</td>\n",
       "      <td>0.01</td>\n",
       "      <td>1</td>\n",
       "      <td>341</td>\n",
       "      <td>0.046641</td>\n",
       "    </tr>\n",
       "    <tr>\n",
       "      <th>1208</th>\n",
       "      <td>513688</td>\n",
       "      <td>2530670</td>\n",
       "      <td>Tiffany</td>\n",
       "      <td>Brooklyn</td>\n",
       "      <td>Boerum Hill</td>\n",
       "      <td>Entire home/apt</td>\n",
       "      <td>350</td>\n",
       "      <td>2</td>\n",
       "      <td>134</td>\n",
       "      <td>43653.0</td>\n",
       "      <td>1.56</td>\n",
       "      <td>1</td>\n",
       "      <td>56</td>\n",
       "      <td>0.206727</td>\n",
       "    </tr>\n",
       "    <tr>\n",
       "      <th>1209</th>\n",
       "      <td>514457</td>\n",
       "      <td>2096690</td>\n",
       "      <td>Richard</td>\n",
       "      <td>Brooklyn</td>\n",
       "      <td>Bedford-Stuyvesant</td>\n",
       "      <td>Entire home/apt</td>\n",
       "      <td>150</td>\n",
       "      <td>10</td>\n",
       "      <td>10</td>\n",
       "      <td>43611.0</td>\n",
       "      <td>0.17</td>\n",
       "      <td>2</td>\n",
       "      <td>185</td>\n",
       "      <td>0.482942</td>\n",
       "    </tr>\n",
       "    <tr>\n",
       "      <th>1210</th>\n",
       "      <td>514548</td>\n",
       "      <td>2533991</td>\n",
       "      <td>Amanda</td>\n",
       "      <td>Brooklyn</td>\n",
       "      <td>Bushwick</td>\n",
       "      <td>Entire home/apt</td>\n",
       "      <td>180</td>\n",
       "      <td>30</td>\n",
       "      <td>0</td>\n",
       "      <td>NaN</td>\n",
       "      <td>NaN</td>\n",
       "      <td>1</td>\n",
       "      <td>352</td>\n",
       "      <td>0.701032</td>\n",
       "    </tr>\n",
       "  </tbody>\n",
       "</table>\n",
       "<p>1211 rows × 14 columns</p>\n",
       "</div>"
      ],
      "text/plain": [
       "          id  host_id    host_name neighbourhood_group       neighbourhood  \\\n",
       "0       2539     2787         John           Brooklyn           Kensington   \n",
       "1       2595     2845     Jennifer           Manhattan             Midtown   \n",
       "2       3647     4632    Elisabeth           Manhattan              Harlem   \n",
       "3       3831     4869  LisaRoxanne           Brooklyn         Clinton Hill   \n",
       "4       5022     7192        Laura           Manhattan         East Harlem   \n",
       "...      ...      ...          ...                 ...                 ...   \n",
       "1206  512775  2396295      Richard              Queens    Long Island City   \n",
       "1207  513343  2528671       Dennis           Brooklyn     Prospect Heights   \n",
       "1208  513688  2530670      Tiffany           Brooklyn          Boerum Hill   \n",
       "1209  514457  2096690      Richard           Brooklyn   Bedford-Stuyvesant   \n",
       "1210  514548  2533991       Amanda           Brooklyn             Bushwick   \n",
       "\n",
       "            room_type  price  minimum_nights  number_of_reviews  last_review  \\\n",
       "0        Private room    149               1                  9      43392.0   \n",
       "1     Entire home/apt    225               1                 45      43606.0   \n",
       "2        Private room    150               3                  0          NaN   \n",
       "3     Entire home/apt     89               1                270      43651.0   \n",
       "4     Entire home/apt     80              10                  9      43423.0   \n",
       "...               ...    ...             ...                ...          ...   \n",
       "1206  Entire home/apt    350               2                182      43627.0   \n",
       "1207  Entire home/apt    125              30                  1      41101.0   \n",
       "1208  Entire home/apt    350               2                134      43653.0   \n",
       "1209  Entire home/apt    150              10                 10      43611.0   \n",
       "1210  Entire home/apt    180              30                  0          NaN   \n",
       "\n",
       "      reviews_per_month  calculated_host_listings_count  availability_365  \\\n",
       "0                  0.21                               6               365   \n",
       "1                  0.38                               2               355   \n",
       "2                   NaN                               1               365   \n",
       "3                  4.64                               1               194   \n",
       "4                  0.10                               1                 0   \n",
       "...                 ...                             ...               ...   \n",
       "1206               2.20                               1               272   \n",
       "1207               0.01                               1               341   \n",
       "1208               1.56                               1                56   \n",
       "1209               0.17                               2               185   \n",
       "1210                NaN                               1               352   \n",
       "\n",
       "        rating  \n",
       "0     0.571896  \n",
       "1     0.184032  \n",
       "2     0.027267  \n",
       "3     0.461664  \n",
       "4     0.823074  \n",
       "...        ...  \n",
       "1206  0.424881  \n",
       "1207  0.046641  \n",
       "1208  0.206727  \n",
       "1209  0.482942  \n",
       "1210  0.701032  \n",
       "\n",
       "[1211 rows x 14 columns]"
      ]
     },
     "execution_count": 11,
     "metadata": {},
     "output_type": "execute_result"
    }
   ],
   "source": [
    "df"
   ]
  },
  {
   "cell_type": "markdown",
   "id": "548f43d3",
   "metadata": {},
   "source": [
    "## 1. Clean Data"
   ]
  },
  {
   "cell_type": "markdown",
   "id": "cf477646",
   "metadata": {},
   "source": [
    "##### Check for Nulls and Remove them"
   ]
  },
  {
   "cell_type": "code",
   "execution_count": 20,
   "id": "87a74e8f",
   "metadata": {},
   "outputs": [
    {
     "data": {
      "text/plain": [
       "id                                 0\n",
       "host_id                            0\n",
       "host_name                          1\n",
       "neighbourhood_group                0\n",
       "neighbourhood                      0\n",
       "room_type                          0\n",
       "price                              0\n",
       "minimum_nights                     0\n",
       "number_of_reviews                  0\n",
       "last_review                       50\n",
       "reviews_per_month                 50\n",
       "calculated_host_listings_count     0\n",
       "availability_365                   0\n",
       "rating                             0\n",
       "dtype: int64"
      ]
     },
     "execution_count": 20,
     "metadata": {},
     "output_type": "execute_result"
    }
   ],
   "source": [
    "df.isnull().sum() # tells us how many Nulls there are in the dataframe by column"
   ]
  },
  {
   "cell_type": "code",
   "execution_count": 21,
   "id": "ba49452e",
   "metadata": {},
   "outputs": [
    {
     "data": {
      "text/plain": [
       "101"
      ]
     },
     "execution_count": 21,
     "metadata": {},
     "output_type": "execute_result"
    }
   ],
   "source": [
    "df.isnull().sum().sum() # tells us how many Nulls there are in the dataframe  "
   ]
  },
  {
   "cell_type": "code",
   "execution_count": 35,
   "id": "55cf071f",
   "metadata": {},
   "outputs": [],
   "source": [
    "df_dropped =  df.dropna() #-- drop the rows with nulls"
   ]
  },
  {
   "cell_type": "code",
   "execution_count": 41,
   "id": "16a3f9be",
   "metadata": {},
   "outputs": [
    {
     "data": {
      "text/plain": [
       "id                                0\n",
       "host_id                           0\n",
       "host_name                         0\n",
       "neighbourhood_group               0\n",
       "neighbourhood                     0\n",
       "room_type                         0\n",
       "price                             0\n",
       "minimum_nights                    0\n",
       "number_of_reviews                 0\n",
       "last_review                       0\n",
       "reviews_per_month                 0\n",
       "calculated_host_listings_count    0\n",
       "availability_365                  0\n",
       "rating                            0\n",
       "dtype: int64"
      ]
     },
     "execution_count": 41,
     "metadata": {},
     "output_type": "execute_result"
    }
   ],
   "source": [
    "df_dropped.isnull().sum() # no more nulls "
   ]
  },
  {
   "cell_type": "code",
   "execution_count": 19,
   "id": "7a4509af",
   "metadata": {},
   "outputs": [
    {
     "data": {
      "text/plain": [
       "id                                 0\n",
       "host_id                            0\n",
       "host_name                          1\n",
       "neighbourhood_group                0\n",
       "neighbourhood                      0\n",
       "room_type                          0\n",
       "price                              0\n",
       "minimum_nights                     0\n",
       "number_of_reviews                  0\n",
       "last_review                       50\n",
       "reviews_per_month                 50\n",
       "calculated_host_listings_count     0\n",
       "availability_365                   0\n",
       "rating                             0\n",
       "dtype: int64"
      ]
     },
     "execution_count": 19,
     "metadata": {},
     "output_type": "execute_result"
    }
   ],
   "source": [
    "df.isnull().sum()"
   ]
  },
  {
   "cell_type": "markdown",
   "id": "03f68e98",
   "metadata": {},
   "source": [
    "#### Check for Duplicates and Remove Them"
   ]
  },
  {
   "cell_type": "code",
   "execution_count": 42,
   "id": "05b8ca06",
   "metadata": {},
   "outputs": [
    {
     "data": {
      "text/plain": [
       "3"
      ]
     },
     "execution_count": 42,
     "metadata": {},
     "output_type": "execute_result"
    }
   ],
   "source": [
    "df.duplicated().sum() # counts the duplicates"
   ]
  },
  {
   "cell_type": "code",
   "execution_count": 32,
   "id": "3d9e6f7e",
   "metadata": {},
   "outputs": [],
   "source": [
    "df_nodupes = df.drop_duplicates() #gets rid of the duplicate rows"
   ]
  },
  {
   "cell_type": "code",
   "execution_count": 48,
   "id": "17ff8f74",
   "metadata": {},
   "outputs": [
    {
     "data": {
      "text/plain": [
       "0"
      ]
     },
     "execution_count": 48,
     "metadata": {},
     "output_type": "execute_result"
    }
   ],
   "source": [
    "df_nodupes.duplicated().sum() # no dupes "
   ]
  },
  {
   "cell_type": "markdown",
   "id": "513320f4",
   "metadata": {},
   "source": [
    "## 2. Analyze Data"
   ]
  },
  {
   "cell_type": "code",
   "execution_count": null,
   "id": "beeff01a",
   "metadata": {},
   "outputs": [],
   "source": [
    "# Questions for Analysis: \n",
    "# What’s the average room price in each borough? \n",
    "# What neighborhood has the most expensive rentals (max of mean)? \n",
    "# What type of room costs the most? The least?  \n",
    "# Are higher ratings correlated with higher prices? \n",
    "# Are hosts with more rentals more likely to receive higher ratings?\n",
    "# What’s the ‘best’ rental in NYC, considering location, price, and rating?  (this is a subjective judgment, but make sure you justify your choice) \n"
   ]
  },
  {
   "cell_type": "markdown",
   "id": "4b4122fc",
   "metadata": {},
   "source": [
    "## What’s the average room price in each borough? "
   ]
  },
  {
   "cell_type": "code",
   "execution_count": 4,
   "id": "3a69102c",
   "metadata": {},
   "outputs": [],
   "source": [
    "#Columns being compared :\n",
    "# neighbourhood_group \n",
    "# price   for average use # df['column2'].mean() \n",
    "\n",
    "df.roomprice = df['price'].mean()\n",
    "\n",
    " # df_grouped = df.groupby(['rows1','row2'])['columns'].mean()\n",
    "df_roomprice_bourough = df.groupby('neighbourhood_group')['price'].mean()\n"
   ]
  },
  {
   "cell_type": "code",
   "execution_count": 5,
   "id": "1159065b",
   "metadata": {},
   "outputs": [
    {
     "data": {
      "text/plain": [
       "neighbourhood_group\n",
       "Bronx             68.0\n",
       "Brooklyn          97.0\n",
       "Brooklyn         153.0\n",
       "Manhattan        182.0\n",
       "Queens            96.0\n",
       "Staten Island     75.0\n",
       "Name: price, dtype: float64"
      ]
     },
     "execution_count": 5,
     "metadata": {},
     "output_type": "execute_result"
    }
   ],
   "source": [
    "df_roomprice_bourough.round()"
   ]
  },
  {
   "cell_type": "markdown",
   "id": "0be48a0e",
   "metadata": {},
   "source": [
    "#### Answer: The average room price in each borough is \n",
    "##### Bronx             68.0\n",
    "##### Brooklyn          97.0\n",
    "##### Brooklyn         153.0\n",
    "##### Manhattan        182.0\n",
    "##### Queens            96.0\n",
    "##### Staten Island     75.0"
   ]
  },
  {
   "cell_type": "code",
   "execution_count": 7,
   "id": "963ab8b0",
   "metadata": {},
   "outputs": [],
   "source": [
    "# plt.figure(figsize=(10,3))\n",
    "# plt.bar(df_roomprice_bourough[' neighbourhood_group '], df_roomprice_bourough['price'], color='m', marker='1')\n",
    "# plt.show()"
   ]
  },
  {
   "cell_type": "markdown",
   "id": "8f7c2f24",
   "metadata": {},
   "source": [
    "## What neighborhood has the most expensive rentals (max of mean)? \n"
   ]
  },
  {
   "cell_type": "code",
   "execution_count": 64,
   "id": "3e68c5b0",
   "metadata": {},
   "outputs": [],
   "source": [
    "df.roompricemax = df['price'].max()"
   ]
  },
  {
   "cell_type": "code",
   "execution_count": 65,
   "id": "cafc8f40",
   "metadata": {},
   "outputs": [],
   "source": [
    "df_roompricemax_bourough = df.groupby('neighbourhood_group')['price'].max()\n"
   ]
  },
  {
   "cell_type": "code",
   "execution_count": 66,
   "id": "abc3bacf",
   "metadata": {},
   "outputs": [
    {
     "data": {
      "text/plain": [
       "neighbourhood_group\n",
       "Bronx             125\n",
       "Brooklyn          215\n",
       "Brooklyn          800\n",
       "Manhattan        3000\n",
       "Queens            350\n",
       "Staten Island     250\n",
       "Name: price, dtype: int64"
      ]
     },
     "execution_count": 66,
     "metadata": {},
     "output_type": "execute_result"
    }
   ],
   "source": [
    "df_roompricemax_bourough"
   ]
  },
  {
   "cell_type": "markdown",
   "id": "4b59d24c",
   "metadata": {},
   "source": [
    "#### Answer: Manahattan has the Most Expensive Rentals "
   ]
  },
  {
   "cell_type": "markdown",
   "id": "dc52ea7b",
   "metadata": {},
   "source": [
    "## What type of room costs the most? The least?  \n"
   ]
  },
  {
   "cell_type": "code",
   "execution_count": 130,
   "id": "fff2af81",
   "metadata": {},
   "outputs": [],
   "source": [
    "df_roomprice_roomtype = df.groupby('room_type')['price'].max()\n"
   ]
  },
  {
   "cell_type": "code",
   "execution_count": 131,
   "id": "8ab7d865",
   "metadata": {},
   "outputs": [
    {
     "data": {
      "text/plain": [
       "room_type\n",
       "Entire home/apt    2000\n",
       "Private room       3000\n",
       "Shared room         115\n",
       "Name: price, dtype: int64"
      ]
     },
     "execution_count": 131,
     "metadata": {},
     "output_type": "execute_result"
    }
   ],
   "source": [
    "df_roomprice_roomtype"
   ]
  },
  {
   "cell_type": "markdown",
   "id": "e40c7f3a",
   "metadata": {},
   "source": [
    "#### Answer: \n",
    "#### Most Expensive Room Type:  Private Room\n",
    "#### Least Expensive Room Type: Shared Room "
   ]
  },
  {
   "cell_type": "code",
   "execution_count": 8,
   "id": "6cb3d890",
   "metadata": {},
   "outputs": [],
   "source": [
    "# plt.figure(figsize=(10,3))\n",
    "# plt.bar(df_roomprice_roomtype['room_type'], df_roomprice_roomtype['price'], color='m')\n",
    "# plt.xlabel('Room Type')\n",
    "# plt.ylabel('Room Price')\n",
    "# plt.title('Room Price by Room Type Chart')\n",
    "# plt.show()\n"
   ]
  },
  {
   "cell_type": "markdown",
   "id": "bb50fb34",
   "metadata": {},
   "source": [
    "## Are higher ratings correlated with higher prices? \n"
   ]
  },
  {
   "cell_type": "code",
   "execution_count": 83,
   "id": "b36d2e6c",
   "metadata": {},
   "outputs": [],
   "source": [
    "import numpy as np"
   ]
  },
  {
   "cell_type": "code",
   "execution_count": 85,
   "id": "9ccb22a7",
   "metadata": {},
   "outputs": [],
   "source": [
    "# df.ratings_MaxPrices = df.corr(['ratings']['price'].max())\n",
    "\n",
    "max_roomprice = df['price'].max()\n",
    "\n",
    "# df_rating_maxprice = df['rating'].corr(max_roomprice)\n",
    "# df_rating_maxprice = np.corrcoef(df['rating'], max_roomprice)[0, 1]\n"
   ]
  },
  {
   "cell_type": "code",
   "execution_count": 106,
   "id": "df8d8eb6",
   "metadata": {},
   "outputs": [],
   "source": [
    "# import matplotlib.pyplot as plt\n",
    "# import pandas as pd \n",
    "# df=pd.read_excel(\"Airbnb Clean.xlsx\")\n",
    "\n",
    "# plt.figure(figsize=(10,3)) # .figsize() code must run before .plot\n",
    "# # plt.plot(['Price'], ['Rating'])\n",
    "# plt.plot(df['Price'], df['Rating'])\n",
    "\n",
    "# plt.show()"
   ]
  },
  {
   "cell_type": "code",
   "execution_count": 97,
   "id": "51e31a01",
   "metadata": {},
   "outputs": [
    {
     "data": {
      "text/html": [
       "<div>\n",
       "<style scoped>\n",
       "    .dataframe tbody tr th:only-of-type {\n",
       "        vertical-align: middle;\n",
       "    }\n",
       "\n",
       "    .dataframe tbody tr th {\n",
       "        vertical-align: top;\n",
       "    }\n",
       "\n",
       "    .dataframe thead th {\n",
       "        text-align: right;\n",
       "    }\n",
       "</style>\n",
       "<table border=\"1\" class=\"dataframe\">\n",
       "  <thead>\n",
       "    <tr style=\"text-align: right;\">\n",
       "      <th></th>\n",
       "      <th>id</th>\n",
       "      <th>host_id</th>\n",
       "      <th>host_name</th>\n",
       "      <th>neighbourhood_group</th>\n",
       "      <th>neighbourhood</th>\n",
       "      <th>room_type</th>\n",
       "      <th>price</th>\n",
       "      <th>minimum_nights</th>\n",
       "      <th>number_of_reviews</th>\n",
       "      <th>last_review</th>\n",
       "      <th>reviews_per_month</th>\n",
       "      <th>calculated_host_listings_count</th>\n",
       "      <th>availability_365</th>\n",
       "      <th>rating</th>\n",
       "    </tr>\n",
       "  </thead>\n",
       "  <tbody>\n",
       "    <tr>\n",
       "      <th>0</th>\n",
       "      <td>2539</td>\n",
       "      <td>2787</td>\n",
       "      <td>John</td>\n",
       "      <td>Brooklyn</td>\n",
       "      <td>Kensington</td>\n",
       "      <td>Private room</td>\n",
       "      <td>149</td>\n",
       "      <td>1</td>\n",
       "      <td>9</td>\n",
       "      <td>43392.0</td>\n",
       "      <td>0.21</td>\n",
       "      <td>6</td>\n",
       "      <td>365</td>\n",
       "      <td>0.571896</td>\n",
       "    </tr>\n",
       "    <tr>\n",
       "      <th>1</th>\n",
       "      <td>2595</td>\n",
       "      <td>2845</td>\n",
       "      <td>Jennifer</td>\n",
       "      <td>Manhattan</td>\n",
       "      <td>Midtown</td>\n",
       "      <td>Entire home/apt</td>\n",
       "      <td>225</td>\n",
       "      <td>1</td>\n",
       "      <td>45</td>\n",
       "      <td>43606.0</td>\n",
       "      <td>0.38</td>\n",
       "      <td>2</td>\n",
       "      <td>355</td>\n",
       "      <td>0.184032</td>\n",
       "    </tr>\n",
       "    <tr>\n",
       "      <th>2</th>\n",
       "      <td>3647</td>\n",
       "      <td>4632</td>\n",
       "      <td>Elisabeth</td>\n",
       "      <td>Manhattan</td>\n",
       "      <td>Harlem</td>\n",
       "      <td>Private room</td>\n",
       "      <td>150</td>\n",
       "      <td>3</td>\n",
       "      <td>0</td>\n",
       "      <td>NaN</td>\n",
       "      <td>NaN</td>\n",
       "      <td>1</td>\n",
       "      <td>365</td>\n",
       "      <td>0.027267</td>\n",
       "    </tr>\n",
       "    <tr>\n",
       "      <th>3</th>\n",
       "      <td>3831</td>\n",
       "      <td>4869</td>\n",
       "      <td>LisaRoxanne</td>\n",
       "      <td>Brooklyn</td>\n",
       "      <td>Clinton Hill</td>\n",
       "      <td>Entire home/apt</td>\n",
       "      <td>89</td>\n",
       "      <td>1</td>\n",
       "      <td>270</td>\n",
       "      <td>43651.0</td>\n",
       "      <td>4.64</td>\n",
       "      <td>1</td>\n",
       "      <td>194</td>\n",
       "      <td>0.461664</td>\n",
       "    </tr>\n",
       "    <tr>\n",
       "      <th>4</th>\n",
       "      <td>5022</td>\n",
       "      <td>7192</td>\n",
       "      <td>Laura</td>\n",
       "      <td>Manhattan</td>\n",
       "      <td>East Harlem</td>\n",
       "      <td>Entire home/apt</td>\n",
       "      <td>80</td>\n",
       "      <td>10</td>\n",
       "      <td>9</td>\n",
       "      <td>43423.0</td>\n",
       "      <td>0.10</td>\n",
       "      <td>1</td>\n",
       "      <td>0</td>\n",
       "      <td>0.823074</td>\n",
       "    </tr>\n",
       "    <tr>\n",
       "      <th>...</th>\n",
       "      <td>...</td>\n",
       "      <td>...</td>\n",
       "      <td>...</td>\n",
       "      <td>...</td>\n",
       "      <td>...</td>\n",
       "      <td>...</td>\n",
       "      <td>...</td>\n",
       "      <td>...</td>\n",
       "      <td>...</td>\n",
       "      <td>...</td>\n",
       "      <td>...</td>\n",
       "      <td>...</td>\n",
       "      <td>...</td>\n",
       "      <td>...</td>\n",
       "    </tr>\n",
       "    <tr>\n",
       "      <th>1206</th>\n",
       "      <td>512775</td>\n",
       "      <td>2396295</td>\n",
       "      <td>Richard</td>\n",
       "      <td>Queens</td>\n",
       "      <td>Long Island City</td>\n",
       "      <td>Entire home/apt</td>\n",
       "      <td>350</td>\n",
       "      <td>2</td>\n",
       "      <td>182</td>\n",
       "      <td>43627.0</td>\n",
       "      <td>2.20</td>\n",
       "      <td>1</td>\n",
       "      <td>272</td>\n",
       "      <td>0.424881</td>\n",
       "    </tr>\n",
       "    <tr>\n",
       "      <th>1207</th>\n",
       "      <td>513343</td>\n",
       "      <td>2528671</td>\n",
       "      <td>Dennis</td>\n",
       "      <td>Brooklyn</td>\n",
       "      <td>Prospect Heights</td>\n",
       "      <td>Entire home/apt</td>\n",
       "      <td>125</td>\n",
       "      <td>30</td>\n",
       "      <td>1</td>\n",
       "      <td>41101.0</td>\n",
       "      <td>0.01</td>\n",
       "      <td>1</td>\n",
       "      <td>341</td>\n",
       "      <td>0.046641</td>\n",
       "    </tr>\n",
       "    <tr>\n",
       "      <th>1208</th>\n",
       "      <td>513688</td>\n",
       "      <td>2530670</td>\n",
       "      <td>Tiffany</td>\n",
       "      <td>Brooklyn</td>\n",
       "      <td>Boerum Hill</td>\n",
       "      <td>Entire home/apt</td>\n",
       "      <td>350</td>\n",
       "      <td>2</td>\n",
       "      <td>134</td>\n",
       "      <td>43653.0</td>\n",
       "      <td>1.56</td>\n",
       "      <td>1</td>\n",
       "      <td>56</td>\n",
       "      <td>0.206727</td>\n",
       "    </tr>\n",
       "    <tr>\n",
       "      <th>1209</th>\n",
       "      <td>514457</td>\n",
       "      <td>2096690</td>\n",
       "      <td>Richard</td>\n",
       "      <td>Brooklyn</td>\n",
       "      <td>Bedford-Stuyvesant</td>\n",
       "      <td>Entire home/apt</td>\n",
       "      <td>150</td>\n",
       "      <td>10</td>\n",
       "      <td>10</td>\n",
       "      <td>43611.0</td>\n",
       "      <td>0.17</td>\n",
       "      <td>2</td>\n",
       "      <td>185</td>\n",
       "      <td>0.482942</td>\n",
       "    </tr>\n",
       "    <tr>\n",
       "      <th>1210</th>\n",
       "      <td>514548</td>\n",
       "      <td>2533991</td>\n",
       "      <td>Amanda</td>\n",
       "      <td>Brooklyn</td>\n",
       "      <td>Bushwick</td>\n",
       "      <td>Entire home/apt</td>\n",
       "      <td>180</td>\n",
       "      <td>30</td>\n",
       "      <td>0</td>\n",
       "      <td>NaN</td>\n",
       "      <td>NaN</td>\n",
       "      <td>1</td>\n",
       "      <td>352</td>\n",
       "      <td>0.701032</td>\n",
       "    </tr>\n",
       "  </tbody>\n",
       "</table>\n",
       "<p>1211 rows × 14 columns</p>\n",
       "</div>"
      ],
      "text/plain": [
       "          id  host_id    host_name neighbourhood_group       neighbourhood  \\\n",
       "0       2539     2787         John           Brooklyn           Kensington   \n",
       "1       2595     2845     Jennifer           Manhattan             Midtown   \n",
       "2       3647     4632    Elisabeth           Manhattan              Harlem   \n",
       "3       3831     4869  LisaRoxanne           Brooklyn         Clinton Hill   \n",
       "4       5022     7192        Laura           Manhattan         East Harlem   \n",
       "...      ...      ...          ...                 ...                 ...   \n",
       "1206  512775  2396295      Richard              Queens    Long Island City   \n",
       "1207  513343  2528671       Dennis           Brooklyn     Prospect Heights   \n",
       "1208  513688  2530670      Tiffany           Brooklyn          Boerum Hill   \n",
       "1209  514457  2096690      Richard           Brooklyn   Bedford-Stuyvesant   \n",
       "1210  514548  2533991       Amanda           Brooklyn             Bushwick   \n",
       "\n",
       "            room_type  price  minimum_nights  number_of_reviews  last_review  \\\n",
       "0        Private room    149               1                  9      43392.0   \n",
       "1     Entire home/apt    225               1                 45      43606.0   \n",
       "2        Private room    150               3                  0          NaN   \n",
       "3     Entire home/apt     89               1                270      43651.0   \n",
       "4     Entire home/apt     80              10                  9      43423.0   \n",
       "...               ...    ...             ...                ...          ...   \n",
       "1206  Entire home/apt    350               2                182      43627.0   \n",
       "1207  Entire home/apt    125              30                  1      41101.0   \n",
       "1208  Entire home/apt    350               2                134      43653.0   \n",
       "1209  Entire home/apt    150              10                 10      43611.0   \n",
       "1210  Entire home/apt    180              30                  0          NaN   \n",
       "\n",
       "      reviews_per_month  calculated_host_listings_count  availability_365  \\\n",
       "0                  0.21                               6               365   \n",
       "1                  0.38                               2               355   \n",
       "2                   NaN                               1               365   \n",
       "3                  4.64                               1               194   \n",
       "4                  0.10                               1                 0   \n",
       "...                 ...                             ...               ...   \n",
       "1206               2.20                               1               272   \n",
       "1207               0.01                               1               341   \n",
       "1208               1.56                               1                56   \n",
       "1209               0.17                               2               185   \n",
       "1210                NaN                               1               352   \n",
       "\n",
       "        rating  \n",
       "0     0.571896  \n",
       "1     0.184032  \n",
       "2     0.027267  \n",
       "3     0.461664  \n",
       "4     0.823074  \n",
       "...        ...  \n",
       "1206  0.424881  \n",
       "1207  0.046641  \n",
       "1208  0.206727  \n",
       "1209  0.482942  \n",
       "1210  0.701032  \n",
       "\n",
       "[1211 rows x 14 columns]"
      ]
     },
     "execution_count": 97,
     "metadata": {},
     "output_type": "execute_result"
    }
   ],
   "source": [
    "df # checking the data"
   ]
  },
  {
   "cell_type": "code",
   "execution_count": null,
   "id": "35464b8d",
   "metadata": {},
   "outputs": [],
   "source": []
  }
 ],
 "metadata": {
  "kernelspec": {
   "display_name": "Python 3 (ipykernel)",
   "language": "python",
   "name": "python3"
  },
  "language_info": {
   "codemirror_mode": {
    "name": "ipython",
    "version": 3
   },
   "file_extension": ".py",
   "mimetype": "text/x-python",
   "name": "python",
   "nbconvert_exporter": "python",
   "pygments_lexer": "ipython3",
   "version": "3.10.9"
  }
 },
 "nbformat": 4,
 "nbformat_minor": 5
}
