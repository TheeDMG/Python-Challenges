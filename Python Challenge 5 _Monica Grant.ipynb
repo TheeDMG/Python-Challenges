{
 "cells": [
  {
   "cell_type": "markdown",
   "id": "dd933ec2",
   "metadata": {},
   "source": [
    "## Python and the Holy Grail Challenge\n"
   ]
  },
  {
   "cell_type": "code",
   "execution_count": 6,
   "id": "bdbf8f29",
   "metadata": {},
   "outputs": [
    {
     "name": "stdout",
     "output_type": "stream",
     "text": [
      "400.35\n"
     ]
    }
   ],
   "source": [
    "# The first gatekeeper you encounter is Gimli the Frugal.  He has just returned from the store where he purchased 12 items.   There was supposed to be a 15% discount, but Gimli worries that he spent too much.  \n",
    "# The items he purchased cost: \n",
    "# [32, 52, 16, 26, 61, 19, 33, 53, 23, 6, 68, 82]\n",
    "# With his 15% discount, what total should he have paid for all the items?  \n",
    "\n",
    "# Items Costs\n",
    "item_costs = [32, 52, 16, 26, 61, 19, 33, 53, 23, 6, 68, 82]\n",
    "\n",
    "#  total cost without discount\n",
    "total_cost_without_discount = sum(item_costs)\n",
    "\n",
    "# amount of discount (15% of the total cost)\n",
    "discount_percentage = 0.15\n",
    "discount_amount = discount_percentage * total_cost_without_discount\n",
    "\n",
    "#  amount Gimli should have paid\n",
    "final_amount_to_pay = total_cost_without_discount - discount_amount\n",
    "print (final_amount_to_pay)\n"
   ]
  },
  {
   "cell_type": "code",
   "execution_count": 11,
   "id": "16626e89",
   "metadata": {},
   "outputs": [
    {
     "name": "stdout",
     "output_type": "stream",
     "text": [
      "Blue\n",
      "Sir Lancelot's favorite color is: Blue\n"
     ]
    }
   ],
   "source": [
    "# You next encounter a troll who asks you to help him answer a riddle before you can continue to a bridge.   He says that every visitor answers three questions before they cross the bridge, and their answers are stored in a Python dictionary.  \n",
    "\n",
    "visitor_info = {\n",
    "\n",
    "    \"name\": \"Sir Lancelot\",\n",
    "    \"quest\": \"To seek the Holy Grail\",\n",
    "    \"favorite_color\": \"Blue\"\n",
    "}\n",
    "# The troll doesn't know how to retrieve information from the dictionary.  Can you help him find Sir Lancelot's favorite color?  \n",
    "\n",
    "# Retrieving Sir Lancelot's favorite color from the dictionary\n",
    "favorite_color = visitor_info[\"favorite_color\"]\n",
    "print (visitor_info[\"favorite_color\"])\n"
   ]
  },
  {
   "cell_type": "code",
   "execution_count": 12,
   "id": "e1091a38",
   "metadata": {},
   "outputs": [
    {
     "name": "stdout",
     "output_type": "stream",
     "text": [
      "3.6363636363636362\n"
     ]
    }
   ],
   "source": [
    "# At the bridge you are approached by an elderly man scribbling numbers on a pad of paper.  \n",
    "# He asks if you can help him.   \n",
    "# \"I have 11 carriages that must cross a bridge. \n",
    "# The carriages weigh 825 pounds each.  \n",
    "# The bridge can only hold 3000 pounds.  \n",
    "# How many carriages can cross the bridge at one time?\" \n",
    "\n",
    "Carriages = 11\n",
    "Carriage_weight= 825\n",
    "Bridge_hold = 3000 \n",
    "\n",
    "total_carriages_on_bridge= 3000 / 825 \n",
    "print (total_carriages_on_bridge)\n"
   ]
  },
  {
   "cell_type": "code",
   "execution_count": 23,
   "id": "40a8be2e",
   "metadata": {
    "scrolled": true
   },
   "outputs": [
    {
     "name": "stdout",
     "output_type": "stream",
     "text": [
      "20\n"
     ]
    }
   ],
   "source": [
    "# If it takes a carriage 5 minutes to cross, \n",
    "# how long will it take 11 carriages to cross the bridge?\"  \n",
    "\n",
    "min_per_carriage = 5 #mins\n",
    "carriages = 11\n",
    "carriage_weight= 825\n",
    "bridge_hold = 3000\n",
    "\n",
    "total_carriages_on_bridge= 3000 / 825 \n",
    "\n",
    "total_groups = round(11/3)\n",
    "\n",
    "Travel_time = total_groups * min_per_carriage\n",
    "# Travel_time = min_per_carriage * total_carriages_on_bridge\n",
    "\n",
    "\n",
    "print (Travel_time)\n"
   ]
  },
  {
   "cell_type": "code",
   "execution_count": 24,
   "id": "5ed85c98",
   "metadata": {},
   "outputs": [
    {
     "name": "stdout",
     "output_type": "stream",
     "text": [
      "The first passphrase is: The memory and the senses are but the nourishment of creation\n"
     ]
    }
   ],
   "source": [
    "#  An old man stands before a heavy door holding in one hand two keys, one gold and one silver. The door has two locks and the man mutters as if with two voices at once with every odd word sounding in one voice and every even word sounding in another:\n",
    "\n",
    "# \"The to memory obtain and something the something senses of are equal but value the must nourishment be of given creation\"\n",
    "\n",
    "# You quickly understand that you will have to disentangle his words and provide to him two passwords to pass on ahead.\n",
    "\n",
    "# What is the first passphrase? \n",
    "\n",
    "\n",
    "sentence = \"The to memory obtain and something the something senses of are equal but value the must nourishment be of given creation\"\n",
    "\n",
    "# Split the sentence into individual words\n",
    "words = sentence.split()\n",
    "\n",
    "# Extract the odd words from the sentence\n",
    "odd_words = words[::2]\n",
    "\n",
    "# Combine the odd words to form the first passphrase\n",
    "passphrase_1 = \" \".join(odd_words)\n",
    "\n",
    "# Print the first passphrase\n",
    "print(\"The first passphrase is:\", passphrase_1)\n",
    "\n",
    "\n",
    "\n"
   ]
  },
  {
   "cell_type": "code",
   "execution_count": 25,
   "id": "a04919f0",
   "metadata": {},
   "outputs": [
    {
     "name": "stdout",
     "output_type": "stream",
     "text": [
      "The second passphrase is: to obtain something something of equal value must be given\n"
     ]
    }
   ],
   "source": [
    "# What is the second passphrase? \n",
    "\n",
    "sentence = \"The to memory obtain and something the something senses of are equal but value the must nourishment be of given creation\"\n",
    "\n",
    "# Split the sentence into individual words\n",
    "words = sentence.split()\n",
    "\n",
    "# Extract the even words from the sentence\n",
    "even_words = words[1::2]\n",
    "\n",
    "# Combine the even words to form the second passphrase\n",
    "passphrase_2 = \" \".join(even_words)\n",
    "\n",
    "# Print the second passphrase\n",
    "print(\"The second passphrase is:\", passphrase_2)"
   ]
  },
  {
   "cell_type": "code",
   "execution_count": 26,
   "id": "672609d7",
   "metadata": {},
   "outputs": [
    {
     "name": "stdout",
     "output_type": "stream",
     "text": [
      "Valid combinations: [(1, 2, 4)]\n"
     ]
    }
   ],
   "source": [
    "# In the castle you find the queen fussing with a large, iron safe.   You tell her that you seek the Grail.   She says she'd happily give it to you, but it's in the safe and she's forgotten the combination.    \n",
    "# \"I remember that there were 3 digits in the combination.  The sum of the digits is 7 and the product of all the digits is 8.   Also,  the second digit is larger than the first, and the third digit is larger than the second. \n",
    "# You realize that you can use a loop to try out all of the combinations. \n",
    "\n",
    "\n",
    "\n",
    "# Initialize variables to store the valid combinations\n",
    "valid_combinations = []\n",
    "\n",
    "# Loop through all possible first digits (from 1 to 6, as the second and third digits must be larger)\n",
    "for first_digit in range(1, 7):\n",
    "    # Loop through all possible second digits (from first_digit+1 to 7, as the second digit must be larger than the first)\n",
    "    for second_digit in range(first_digit + 1, 8):\n",
    "        # Calculate the third digit based on the sum and the known digits\n",
    "        third_digit = 7 - first_digit - second_digit\n",
    "        \n",
    "        # Check if the third digit is larger than the second and if the product of all digits is 8\n",
    "        if third_digit > second_digit and first_digit * second_digit * third_digit == 8:\n",
    "            # Append the valid combination to the list\n",
    "            valid_combinations.append((first_digit, second_digit, third_digit))\n",
    "\n",
    "# Print the valid combinations\n",
    "print(\"Valid combinations:\", valid_combinations)\n"
   ]
  },
  {
   "cell_type": "code",
   "execution_count": null,
   "id": "cb985c4f",
   "metadata": {},
   "outputs": [],
   "source": []
  }
 ],
 "metadata": {
  "kernelspec": {
   "display_name": "Python 3 (ipykernel)",
   "language": "python",
   "name": "python3"
  },
  "language_info": {
   "codemirror_mode": {
    "name": "ipython",
    "version": 3
   },
   "file_extension": ".py",
   "mimetype": "text/x-python",
   "name": "python",
   "nbconvert_exporter": "python",
   "pygments_lexer": "ipython3",
   "version": "3.10.9"
  }
 },
 "nbformat": 4,
 "nbformat_minor": 5
}
