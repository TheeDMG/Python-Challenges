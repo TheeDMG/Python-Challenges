{
 "cells": [
  {
   "cell_type": "code",
   "execution_count": null,
   "id": "886ba55b",
   "metadata": {},
   "outputs": [],
   "source": [
    "# Create basic calculations:\n",
    "# Add two integers together. \n",
    "# What is the result?\n",
    "# Subtract two integers. \n",
    "# What is the result?\n",
    "# Divide two values. Have the result be an integer by using floor division. \n",
    "# What is the result?\n",
    "# Create a variable ‘x’, have it’s value be 10+5. Print ‘x’. \n",
    "# What is the result?\n",
    "# Create two strings and combine them using the + operator. \n",
    "# What was the result?\n",
    "# Create variable ‘y’ and have the value be ‘program’. Omit letters o and g. Print the result.\n",
    "# Create a list called ‘calendar_months’.\n",
    "# How long is the list?\n",
    "# Print only February, March, and April.\n",
    "# Create a sample list of your choice, using string variables. \n",
    "# Create a second sample list of your choice, using string variables. \n",
    "# Create a third list that concats the two sample lists you created above.\n",
    "# Remove one item from the third list. \n",
    "# Create a dictionary that has four keys and assign those keys values. \n",
    "# What is the length of the dictionary?"
   ]
  },
  {
   "cell_type": "code",
   "execution_count": 1,
   "id": "5389a4cb",
   "metadata": {},
   "outputs": [
    {
     "data": {
      "text/plain": [
       "5"
      ]
     },
     "execution_count": 1,
     "metadata": {},
     "output_type": "execute_result"
    }
   ],
   "source": [
    "# Create basic calculations:\n",
    "# Add two integers together. \n",
    "2 + 3 "
   ]
  },
  {
   "cell_type": "code",
   "execution_count": 2,
   "id": "4e5fe7f3",
   "metadata": {},
   "outputs": [
    {
     "data": {
      "text/plain": [
       "6"
      ]
     },
     "execution_count": 2,
     "metadata": {},
     "output_type": "execute_result"
    }
   ],
   "source": [
    "# Subtract two integers. \n",
    "# What is the result?\n",
    "18-12"
   ]
  },
  {
   "cell_type": "code",
   "execution_count": 3,
   "id": "40186df6",
   "metadata": {},
   "outputs": [
    {
     "data": {
      "text/plain": [
       "8"
      ]
     },
     "execution_count": 3,
     "metadata": {},
     "output_type": "execute_result"
    }
   ],
   "source": [
    "# Divide two values. Have the result be an integer by using floor division. \n",
    "# What is the result?\n",
    "\n",
    "24//3"
   ]
  },
  {
   "cell_type": "code",
   "execution_count": 4,
   "id": "a7690c50",
   "metadata": {},
   "outputs": [
    {
     "name": "stdout",
     "output_type": "stream",
     "text": [
      "15\n"
     ]
    }
   ],
   "source": [
    "# Create a variable ‘x’, have it’s value be 10+5. Print ‘x’. \n",
    "# What is the result?\n",
    "\n",
    "x = (10+5)\n",
    "print(x)"
   ]
  },
  {
   "cell_type": "code",
   "execution_count": 7,
   "id": "a0e67ab0",
   "metadata": {},
   "outputs": [
    {
     "name": "stdout",
     "output_type": "stream",
     "text": [
      "Mo Money\n"
     ]
    }
   ],
   "source": [
    "# Create two strings and combine them using the + operator. \n",
    "# What was the result?\n",
    "\n",
    "M = \"Mo \" \n",
    "G = \"Money\"\n",
    "print(M + G)\n"
   ]
  },
  {
   "cell_type": "code",
   "execution_count": 14,
   "id": "9b244c19",
   "metadata": {},
   "outputs": [
    {
     "name": "stdout",
     "output_type": "stream",
     "text": [
      "prram\n"
     ]
    }
   ],
   "source": [
    "# Create variable ‘y’ and have the value be ‘program’. Omit letters o and g. Print the result.\n",
    "\n",
    "y= 'program'\n",
    "\n",
    "\n",
    "b = y[0:2]\n",
    "c = y[4:]\n",
    "print (b + c)\n",
    "\n",
    "\n"
   ]
  },
  {
   "cell_type": "code",
   "execution_count": 15,
   "id": "61053a24",
   "metadata": {},
   "outputs": [
    {
     "name": "stdout",
     "output_type": "stream",
     "text": [
      "12\n"
     ]
    }
   ],
   "source": [
    "# Create a list called ‘calendar_months’.\n",
    "# How long is the list?\n",
    "# Print only February, March, and April.\n",
    "\n",
    "lst1 = 'Jan', 'Feb', 'Mar', 'Apr', 'May', 'Jun', 'July', 'Aug', 'Sept', 'Oct', 'Nov', 'Dec'\n",
    "print(len(lst1))"
   ]
  },
  {
   "cell_type": "code",
   "execution_count": 16,
   "id": "ec1ee4f1",
   "metadata": {},
   "outputs": [
    {
     "name": "stdout",
     "output_type": "stream",
     "text": [
      "('Feb', 'Mar', 'Apr')\n"
     ]
    }
   ],
   "source": [
    "print(lst1[1:4])"
   ]
  },
  {
   "cell_type": "code",
   "execution_count": 50,
   "id": "a94604f2",
   "metadata": {},
   "outputs": [
    {
     "name": "stdout",
     "output_type": "stream",
     "text": [
      "('Keith', 'Krste', 'Janice', 'Kim', 'Cedric', 'Nellis', 'Mignon', 'Glenn', 'Mark', 'Darrin', 'Nycole', ' Christopher', 'Monica', ' Menyon', 'Amanda', 'Tori', 'Ashley', 'Natalie', 'Andrew', 'Shawnee', 'Cedric')\n"
     ]
    }
   ],
   "source": [
    "# Create a sample list of your choice, using string variables. \n",
    "lst2 = 'Keith', \"Krste\", \"Janice\", 'Kim', 'Cedric' , \"Nellis\" , \"Mignon\" , \"Glenn\", \"Mark\"\n",
    "lst3 = 'Darrin' , 'Nycole' , \" Christopher\" , \"Monica\" , \" Menyon\", \"Amanda\", \"Tori\", \"Ashley\", \"Natalie\" , \"Andrew\", \"Shawnee\", \"Cedric\"\n",
    "lst4 =lst2 + lst3\n",
    "print(lst4)\n",
    "\n"
   ]
  },
  {
   "cell_type": "code",
   "execution_count": 52,
   "id": "17d89456",
   "metadata": {},
   "outputs": [
    {
     "name": "stdout",
     "output_type": "stream",
     "text": [
      "('Keith', 'Krste', 'Janice', 'Kim', 'Cedric', 'Nellis', 'Mignon', 'Glenn', 'Mark', 'Darrin', 'Nycole', ' Christopher', 'Monica', ' Menyon', 'Amanda', 'Tori', 'Ashley', 'Natalie')\n",
      "('Shawnee', 'Cedric')\n"
     ]
    }
   ],
   "source": [
    "# Remove one item from the third list.\n",
    "t1 = lst4\n",
    "# type (t1)\n",
    "# print(t1)\n",
    "# print(t1[0:3])\n",
    "print(t1[0:18])\n",
    "print(t1[19:])\n"
   ]
  },
  {
   "cell_type": "code",
   "execution_count": 57,
   "id": "342b031e",
   "metadata": {},
   "outputs": [
    {
     "data": {
      "text/plain": [
       "4"
      ]
     },
     "execution_count": 57,
     "metadata": {},
     "output_type": "execute_result"
    }
   ],
   "source": [
    "# Create a dictionary that has four keys and assign those keys values. \n",
    "# What is the length of the dictionary?\n",
    "\n",
    "d = {\"Gender\": \"female\", \"Grade\": 12, \"Sport\": \"Track\", \"GPA\": 3.2}\n",
    "len(d)"
   ]
  },
  {
   "cell_type": "code",
   "execution_count": 59,
   "id": "1b8f12be",
   "metadata": {},
   "outputs": [
    {
     "data": {
      "text/plain": [
       "4"
      ]
     },
     "execution_count": 59,
     "metadata": {},
     "output_type": "execute_result"
    }
   ],
   "source": [
    "e = {\"Gender\": \"female\", \"Grade\": 12, \"Sport\": [\"Track\", 'Soccer', 'Tennis', 'Volleyball'], \"GPA\": 3.2}\n",
    "len(e)"
   ]
  },
  {
   "cell_type": "code",
   "execution_count": null,
   "id": "ab621f52",
   "metadata": {},
   "outputs": [],
   "source": []
  }
 ],
 "metadata": {
  "kernelspec": {
   "display_name": "Python 3 (ipykernel)",
   "language": "python",
   "name": "python3"
  },
  "language_info": {
   "codemirror_mode": {
    "name": "ipython",
    "version": 3
   },
   "file_extension": ".py",
   "mimetype": "text/x-python",
   "name": "python",
   "nbconvert_exporter": "python",
   "pygments_lexer": "ipython3",
   "version": "3.10.9"
  }
 },
 "nbformat": 4,
 "nbformat_minor": 5
}
